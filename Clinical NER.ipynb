{
 "cells": [
  {
   "cell_type": "code",
   "execution_count": null,
   "id": "d456be6b",
   "metadata": {},
   "outputs": [
    {
     "name": "stdout",
     "output_type": "stream",
     "text": [
      "Note: you may need to restart the kernel to use updated packages.\n",
      "Note: you may need to restart the kernel to use updated packages.\n"
     ]
    }
   ],
   "source": [
    "import pandas as pd\n",
    "%pip install -q sklearn-crfsuite\n",
    "%pip install -q transformers datasets seqeval\n",
    "%pip install -q torch\n"
   ]
  },
  {
   "cell_type": "markdown",
   "id": "298caf5d",
   "metadata": {},
   "source": [
    "### 1.1 — Load and Preprocess the Dataset"
   ]
  },
  {
   "cell_type": "code",
   "execution_count": 14,
   "id": "df1ede62",
   "metadata": {},
   "outputs": [
    {
     "name": "stdout",
     "output_type": "stream",
     "text": [
      "       Token    NER_Tag\n",
      "0          A  B-SYMPTOM\n",
      "1      X-ray     B-TEST\n",
      "2  confirmed          O\n",
      "3        the          O\n",
      "4   presence          O\n"
     ]
    }
   ],
   "source": [
    "# Load the synthetic dataset\n",
    "data = pd.read_csv('synthetic_clinical_ner_dataset.csv')\n",
    "\n",
    "# Preview\n",
    "print(data.head())"
   ]
  },
  {
   "cell_type": "code",
   "execution_count": 15,
   "id": "77bcbde3",
   "metadata": {},
   "outputs": [
    {
     "name": "stdout",
     "output_type": "stream",
     "text": [
      "Total sentences: 75\n",
      "Example sentence: [('A', 'B-SYMPTOM'), ('X-ray', 'B-TEST'), ('confirmed', 'O'), ('the', 'O'), ('presence', 'O'), ('of', 'B-DRUG'), ('C', 'B-DISEASE'), ('.', 'B-DISEASE'), ('difficile', 'B-DISEASE'), ('.', 'B-DISEASE')]\n"
     ]
    }
   ],
   "source": [
    "# Step 1: Reconstruct sentences\n",
    "sentences = []\n",
    "current_sentence = []\n",
    "\n",
    "for idx, row in data.iterrows():\n",
    "    token = row['Token']\n",
    "    tag = row['NER_Tag']\n",
    "    \n",
    "    # Empty token means new sentence\n",
    "    if pd.isna(token) or token.strip() == \"\":\n",
    "        if current_sentence:\n",
    "            sentences.append(current_sentence)\n",
    "            current_sentence = []\n",
    "    else:\n",
    "        current_sentence.append((token, tag))\n",
    "\n",
    "# Add any last pending sentence\n",
    "if current_sentence:\n",
    "    sentences.append(current_sentence)\n",
    "\n",
    "print(f\"Total sentences: {len(sentences)}\")\n",
    "print(f\"Example sentence: {sentences[0]}\")"
   ]
  },
  {
   "cell_type": "markdown",
   "id": "904a4e2f",
   "metadata": {},
   "source": [
    "### 1.2 — Training a CRF Model for Clinical NER"
   ]
  },
  {
   "cell_type": "markdown",
   "id": "a32abb87",
   "metadata": {},
   "source": [
    "#### Imports"
   ]
  },
  {
   "cell_type": "code",
   "execution_count": 16,
   "id": "09de87af",
   "metadata": {},
   "outputs": [],
   "source": [
    "import sklearn_crfsuite\n",
    "from sklearn_crfsuite import metrics\n",
    "import random\n",
    "from sklearn.model_selection import train_test_split"
   ]
  },
  {
   "cell_type": "markdown",
   "id": "f28bdadb",
   "metadata": {},
   "source": [
    "#### Helper Function"
   ]
  },
  {
   "cell_type": "code",
   "execution_count": 17,
   "id": "6f1a19d6",
   "metadata": {},
   "outputs": [],
   "source": [
    "# --- Helper: Feature extractor per token ---\n",
    "def word2features(sent, i):\n",
    "    word = sent[i][0]\n",
    "    features = {\n",
    "        'bias': 1.0,\n",
    "        'word.lower()': word.lower(),\n",
    "        'word[-3:]': word[-3:],\n",
    "        'word[:3]': word[:3],\n",
    "        'word.isupper()': word.isupper(),\n",
    "        'word.istitle()': word.istitle(),\n",
    "        'word.isdigit()': word.isdigit()\n",
    "    }\n",
    "    if i > 0:\n",
    "        word1 = sent[i-1][0]\n",
    "        features.update({\n",
    "            '-1:word.lower()': word1.lower(),\n",
    "            '-1:word.istitle()': word1.istitle(),\n",
    "            '-1:word.isupper()': word1.isupper()\n",
    "        })\n",
    "    else:\n",
    "        features['BOS'] = True  # Beginning of sentence\n",
    "\n",
    "    if i < len(sent)-1:\n",
    "        word1 = sent[i+1][0]\n",
    "        features.update({\n",
    "            '+1:word.lower()': word1.lower(),\n",
    "            '+1:word.istitle()': word1.istitle(),\n",
    "            '+1:word.isupper()': word1.isupper()\n",
    "        })\n",
    "    else:\n",
    "        features['EOS'] = True  # End of sentence\n",
    "\n",
    "    return features\n",
    "\n",
    "def sent2features(sent):\n",
    "    return [word2features(sent, i) for i in range(len(sent))]\n",
    "\n",
    "def sent2labels(sent):\n",
    "    return [label for token, label in sent]\n",
    "\n",
    "def sent2tokens(sent):\n",
    "    return [token for token, label in sent]\n"
   ]
  },
  {
   "cell_type": "markdown",
   "id": "bd703f56",
   "metadata": {},
   "source": [
    "#### Code"
   ]
  },
  {
   "cell_type": "code",
   "execution_count": 18,
   "id": "0278b36b",
   "metadata": {},
   "outputs": [
    {
     "name": "stdout",
     "output_type": "stream",
     "text": [
      "              precision    recall  f1-score   support\n",
      "\n",
      "   B-DISEASE      1.000     0.857     0.923        14\n",
      "      B-DRUG      0.857     0.857     0.857         7\n",
      "   B-SYMPTOM      0.889     0.941     0.914        17\n",
      "      B-TEST      1.000     0.833     0.909         6\n",
      "           O      0.971     0.990     0.980       101\n",
      "\n",
      "    accuracy                          0.959       145\n",
      "   macro avg      0.943     0.896     0.917       145\n",
      "weighted avg      0.960     0.959     0.958       145\n",
      "\n"
     ]
    }
   ],
   "source": [
    "# --- Create feature and label sets ---\n",
    "X = [sent2features(s) for s in sentences]\n",
    "y = [sent2labels(s) for s in sentences]\n",
    "\n",
    "# --- Train/Test Split ---\n",
    "X_train, X_test, y_train, y_test = train_test_split(X, y, test_size=0.2, random_state=42)\n",
    "\n",
    "# --- Train CRF ---\n",
    "crf = sklearn_crfsuite.CRF(\n",
    "    algorithm='lbfgs',\n",
    "    max_iterations=100,\n",
    "    all_possible_transitions=True\n",
    ")\n",
    "crf.fit(X_train, y_train)\n",
    "\n",
    "# --- Predict and Evaluate ---\n",
    "y_pred = crf.predict(X_test)\n",
    "\n",
    "print(metrics.flat_classification_report(y_test, y_pred, digits=3))"
   ]
  },
  {
   "cell_type": "markdown",
   "id": "3c9d51e1",
   "metadata": {},
   "source": [
    "### 1.3 — Fine-Tune BERT for Clinical NER (HuggingFace)"
   ]
  },
  {
   "cell_type": "markdown",
   "id": "3265a7f6",
   "metadata": {},
   "source": [
    "#### Imports"
   ]
  },
  {
   "cell_type": "code",
   "execution_count": 19,
   "id": "54be26f2",
   "metadata": {},
   "outputs": [
    {
     "ename": "ModuleNotFoundError",
     "evalue": "No module named 'torch'",
     "output_type": "error",
     "traceback": [
      "\u001b[1;31m---------------------------------------------------------------------------\u001b[0m",
      "\u001b[1;31mModuleNotFoundError\u001b[0m                       Traceback (most recent call last)",
      "Cell \u001b[1;32mIn[19], line 1\u001b[0m\n\u001b[1;32m----> 1\u001b[0m \u001b[38;5;28;01mimport\u001b[39;00m \u001b[38;5;21;01mtorch\u001b[39;00m\n\u001b[0;32m      2\u001b[0m \u001b[38;5;28;01mimport\u001b[39;00m \u001b[38;5;21;01mnumpy\u001b[39;00m \u001b[38;5;28;01mas\u001b[39;00m \u001b[38;5;21;01mnp\u001b[39;00m\n\u001b[0;32m      3\u001b[0m \u001b[38;5;28;01mfrom\u001b[39;00m \u001b[38;5;21;01mdatasets\u001b[39;00m \u001b[38;5;28;01mimport\u001b[39;00m Dataset\n",
      "\u001b[1;31mModuleNotFoundError\u001b[0m: No module named 'torch'"
     ]
    }
   ],
   "source": [
    "import torch\n",
    "import numpy as np\n",
    "from datasets import Dataset\n",
    "from transformers import AutoTokenizer, AutoModelForTokenClassification, TrainingArguments, Trainer, DataCollatorForTokenClassification\n",
    "from sklearn.model_selection import train_test_split"
   ]
  },
  {
   "cell_type": "markdown",
   "id": "dca4cca4",
   "metadata": {},
   "source": [
    "#### Code"
   ]
  },
  {
   "cell_type": "code",
   "execution_count": null,
   "id": "27770e30",
   "metadata": {},
   "outputs": [],
   "source": [
    "# Convert sentences into HuggingFace-compatible structure\n",
    "token_list = []\n",
    "tag_list = []\n",
    "\n",
    "for sent in sentences:\n",
    "    tokens = [token for token, tag in sent]\n",
    "    tags = [tag for token, tag in sent]\n",
    "    token_list.append(tokens)\n",
    "    tag_list.append(tags)\n",
    "\n",
    "# Get unique tags and make label mappings\n",
    "unique_tags = sorted({tag for doc in tag_list for tag in doc})\n",
    "tag2id = {tag: i for i, tag in enumerate(unique_tags)}\n",
    "id2tag = {i: tag for tag, i in tag2id.items()}\n",
    "\n",
    "# Map tags to IDs\n",
    "tag_list_ids = [[tag2id[tag] for tag in seq] for seq in tag_list]\n",
    "\n",
    "# Prepare dataset\n",
    "all_data = Dataset.from_dict({'tokens': token_list, 'ner_tags': tag_list_ids})\n",
    "train_test = all_data.train_test_split(test_size=0.2)\n",
    "\n",
    "# Load BERT tokenizer\n",
    "tokenizer = AutoTokenizer.from_pretrained(\"bert-base-cased\")\n",
    "\n",
    "# Align labels with wordpieces\n",
    "def tokenize_and_align_labels(examples):\n",
    "    tokenized_inputs = tokenizer(examples[\"tokens\"], truncation=True, is_split_into_words=True)\n",
    "\n",
    "    labels = []\n",
    "    for i, label in enumerate(examples[\"ner_tags\"]):\n",
    "        word_ids = tokenized_inputs.word_ids(batch_index=i)\n",
    "        previous_word_idx = None\n",
    "        label_ids = []\n",
    "\n",
    "        for word_idx in word_ids:\n",
    "            if word_idx is None:\n",
    "                label_ids.append(-100)\n",
    "            elif word_idx != previous_word_idx:\n",
    "                label_ids.append(label[word_idx])\n",
    "            else:\n",
    "                label_ids.append(-100)\n",
    "            previous_word_idx = word_idx\n",
    "        labels.append(label_ids)\n",
    "\n",
    "    tokenized_inputs[\"labels\"] = labels\n",
    "    return tokenized_inputs\n",
    "\n",
    "# Apply tokenizer + label aligner\n",
    "tokenized_data = train_test.map(tokenize_and_align_labels, batched=True)\n"
   ]
  }
 ],
 "metadata": {
  "kernelspec": {
   "display_name": "base",
   "language": "python",
   "name": "python3"
  },
  "language_info": {
   "codemirror_mode": {
    "name": "ipython",
    "version": 3
   },
   "file_extension": ".py",
   "mimetype": "text/x-python",
   "name": "python",
   "nbconvert_exporter": "python",
   "pygments_lexer": "ipython3",
   "version": "3.11.5"
  }
 },
 "nbformat": 4,
 "nbformat_minor": 5
}
