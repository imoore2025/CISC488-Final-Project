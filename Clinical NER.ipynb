{
 "cells": [
  {
   "cell_type": "code",
   "execution_count": 1,
   "id": "d456be6b",
   "metadata": {},
   "outputs": [],
   "source": [
    "import pandas as pd"
   ]
  },
  {
   "cell_type": "code",
   "execution_count": 3,
   "id": "df1ede62",
   "metadata": {},
   "outputs": [
    {
     "name": "stdout",
     "output_type": "stream",
     "text": [
      "       Token    NER_Tag\n",
      "0          A  B-SYMPTOM\n",
      "1      X-ray     B-TEST\n",
      "2  confirmed          O\n",
      "3        the          O\n",
      "4   presence          O\n"
     ]
    }
   ],
   "source": [
    "# Load the synthetic dataset\n",
    "data = pd.read_csv('synthetic_clinical_ner_dataset.csv')\n",
    "\n",
    "# Preview\n",
    "print(data.head())"
   ]
  },
  {
   "cell_type": "code",
   "execution_count": 4,
   "id": "77bcbde3",
   "metadata": {},
   "outputs": [
    {
     "name": "stdout",
     "output_type": "stream",
     "text": [
      "Total sentences: 75\n",
      "Example sentence: [('A', 'B-SYMPTOM'), ('X-ray', 'B-TEST'), ('confirmed', 'O'), ('the', 'O'), ('presence', 'O'), ('of', 'B-DRUG'), ('C', 'B-DISEASE'), ('.', 'B-DISEASE'), ('difficile', 'B-DISEASE'), ('.', 'B-DISEASE')]\n"
     ]
    }
   ],
   "source": [
    "# Step 1: Reconstruct sentences\n",
    "sentences = []\n",
    "current_sentence = []\n",
    "\n",
    "for idx, row in data.iterrows():\n",
    "    token = row['Token']\n",
    "    tag = row['NER_Tag']\n",
    "    \n",
    "    # Empty token means new sentence\n",
    "    if pd.isna(token) or token.strip() == \"\":\n",
    "        if current_sentence:\n",
    "            sentences.append(current_sentence)\n",
    "            current_sentence = []\n",
    "    else:\n",
    "        current_sentence.append((token, tag))\n",
    "\n",
    "# Add any last pending sentence\n",
    "if current_sentence:\n",
    "    sentences.append(current_sentence)\n",
    "\n",
    "print(f\"Total sentences: {len(sentences)}\")\n",
    "print(f\"Example sentence: {sentences[0]}\")"
   ]
  }
 ],
 "metadata": {
  "kernelspec": {
   "display_name": "base",
   "language": "python",
   "name": "python3"
  },
  "language_info": {
   "codemirror_mode": {
    "name": "ipython",
    "version": 3
   },
   "file_extension": ".py",
   "mimetype": "text/x-python",
   "name": "python",
   "nbconvert_exporter": "python",
   "pygments_lexer": "ipython3",
   "version": "3.11.5"
  }
 },
 "nbformat": 4,
 "nbformat_minor": 5
}
