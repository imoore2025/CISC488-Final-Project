{
  "cells": [
    {
      "cell_type": "markdown",
      "metadata": {
        "id": "view-in-github",
        "colab_type": "text"
      },
      "source": [
        "<a href=\"https://colab.research.google.com/github/imoore2025/CISC488-Final-Project/blob/main/Clinical%20NER.ipynb\" target=\"_parent\"><img src=\"https://colab.research.google.com/assets/colab-badge.svg\" alt=\"Open In Colab\"/></a>"
      ]
    },
    {
      "cell_type": "code",
      "source": [
        "from google.colab import files\n",
        "uploaded = files.upload()"
      ],
      "metadata": {
        "colab": {
          "base_uri": "https://localhost:8080/",
          "height": 142
        },
        "id": "iiIodrC_uGl8",
        "outputId": "cd59d27b-aef3-4d6e-b453-8bbb00c1df66"
      },
      "id": "iiIodrC_uGl8",
      "execution_count": null,
      "outputs": [
        {
          "output_type": "display_data",
          "data": {
            "text/plain": [
              "<IPython.core.display.HTML object>"
            ],
            "text/html": [
              "\n",
              "     <input type=\"file\" id=\"files-bb1877ca-07ac-4b22-8655-501b2d3ef785\" name=\"files[]\" multiple disabled\n",
              "        style=\"border:none\" />\n",
              "     <output id=\"result-bb1877ca-07ac-4b22-8655-501b2d3ef785\">\n",
              "      Upload widget is only available when the cell has been executed in the\n",
              "      current browser session. Please rerun this cell to enable.\n",
              "      </output>\n",
              "      <script>// Copyright 2017 Google LLC\n",
              "//\n",
              "// Licensed under the Apache License, Version 2.0 (the \"License\");\n",
              "// you may not use this file except in compliance with the License.\n",
              "// You may obtain a copy of the License at\n",
              "//\n",
              "//      http://www.apache.org/licenses/LICENSE-2.0\n",
              "//\n",
              "// Unless required by applicable law or agreed to in writing, software\n",
              "// distributed under the License is distributed on an \"AS IS\" BASIS,\n",
              "// WITHOUT WARRANTIES OR CONDITIONS OF ANY KIND, either express or implied.\n",
              "// See the License for the specific language governing permissions and\n",
              "// limitations under the License.\n",
              "\n",
              "/**\n",
              " * @fileoverview Helpers for google.colab Python module.\n",
              " */\n",
              "(function(scope) {\n",
              "function span(text, styleAttributes = {}) {\n",
              "  const element = document.createElement('span');\n",
              "  element.textContent = text;\n",
              "  for (const key of Object.keys(styleAttributes)) {\n",
              "    element.style[key] = styleAttributes[key];\n",
              "  }\n",
              "  return element;\n",
              "}\n",
              "\n",
              "// Max number of bytes which will be uploaded at a time.\n",
              "const MAX_PAYLOAD_SIZE = 100 * 1024;\n",
              "\n",
              "function _uploadFiles(inputId, outputId) {\n",
              "  const steps = uploadFilesStep(inputId, outputId);\n",
              "  const outputElement = document.getElementById(outputId);\n",
              "  // Cache steps on the outputElement to make it available for the next call\n",
              "  // to uploadFilesContinue from Python.\n",
              "  outputElement.steps = steps;\n",
              "\n",
              "  return _uploadFilesContinue(outputId);\n",
              "}\n",
              "\n",
              "// This is roughly an async generator (not supported in the browser yet),\n",
              "// where there are multiple asynchronous steps and the Python side is going\n",
              "// to poll for completion of each step.\n",
              "// This uses a Promise to block the python side on completion of each step,\n",
              "// then passes the result of the previous step as the input to the next step.\n",
              "function _uploadFilesContinue(outputId) {\n",
              "  const outputElement = document.getElementById(outputId);\n",
              "  const steps = outputElement.steps;\n",
              "\n",
              "  const next = steps.next(outputElement.lastPromiseValue);\n",
              "  return Promise.resolve(next.value.promise).then((value) => {\n",
              "    // Cache the last promise value to make it available to the next\n",
              "    // step of the generator.\n",
              "    outputElement.lastPromiseValue = value;\n",
              "    return next.value.response;\n",
              "  });\n",
              "}\n",
              "\n",
              "/**\n",
              " * Generator function which is called between each async step of the upload\n",
              " * process.\n",
              " * @param {string} inputId Element ID of the input file picker element.\n",
              " * @param {string} outputId Element ID of the output display.\n",
              " * @return {!Iterable<!Object>} Iterable of next steps.\n",
              " */\n",
              "function* uploadFilesStep(inputId, outputId) {\n",
              "  const inputElement = document.getElementById(inputId);\n",
              "  inputElement.disabled = false;\n",
              "\n",
              "  const outputElement = document.getElementById(outputId);\n",
              "  outputElement.innerHTML = '';\n",
              "\n",
              "  const pickedPromise = new Promise((resolve) => {\n",
              "    inputElement.addEventListener('change', (e) => {\n",
              "      resolve(e.target.files);\n",
              "    });\n",
              "  });\n",
              "\n",
              "  const cancel = document.createElement('button');\n",
              "  inputElement.parentElement.appendChild(cancel);\n",
              "  cancel.textContent = 'Cancel upload';\n",
              "  const cancelPromise = new Promise((resolve) => {\n",
              "    cancel.onclick = () => {\n",
              "      resolve(null);\n",
              "    };\n",
              "  });\n",
              "\n",
              "  // Wait for the user to pick the files.\n",
              "  const files = yield {\n",
              "    promise: Promise.race([pickedPromise, cancelPromise]),\n",
              "    response: {\n",
              "      action: 'starting',\n",
              "    }\n",
              "  };\n",
              "\n",
              "  cancel.remove();\n",
              "\n",
              "  // Disable the input element since further picks are not allowed.\n",
              "  inputElement.disabled = true;\n",
              "\n",
              "  if (!files) {\n",
              "    return {\n",
              "      response: {\n",
              "        action: 'complete',\n",
              "      }\n",
              "    };\n",
              "  }\n",
              "\n",
              "  for (const file of files) {\n",
              "    const li = document.createElement('li');\n",
              "    li.append(span(file.name, {fontWeight: 'bold'}));\n",
              "    li.append(span(\n",
              "        `(${file.type || 'n/a'}) - ${file.size} bytes, ` +\n",
              "        `last modified: ${\n",
              "            file.lastModifiedDate ? file.lastModifiedDate.toLocaleDateString() :\n",
              "                                    'n/a'} - `));\n",
              "    const percent = span('0% done');\n",
              "    li.appendChild(percent);\n",
              "\n",
              "    outputElement.appendChild(li);\n",
              "\n",
              "    const fileDataPromise = new Promise((resolve) => {\n",
              "      const reader = new FileReader();\n",
              "      reader.onload = (e) => {\n",
              "        resolve(e.target.result);\n",
              "      };\n",
              "      reader.readAsArrayBuffer(file);\n",
              "    });\n",
              "    // Wait for the data to be ready.\n",
              "    let fileData = yield {\n",
              "      promise: fileDataPromise,\n",
              "      response: {\n",
              "        action: 'continue',\n",
              "      }\n",
              "    };\n",
              "\n",
              "    // Use a chunked sending to avoid message size limits. See b/62115660.\n",
              "    let position = 0;\n",
              "    do {\n",
              "      const length = Math.min(fileData.byteLength - position, MAX_PAYLOAD_SIZE);\n",
              "      const chunk = new Uint8Array(fileData, position, length);\n",
              "      position += length;\n",
              "\n",
              "      const base64 = btoa(String.fromCharCode.apply(null, chunk));\n",
              "      yield {\n",
              "        response: {\n",
              "          action: 'append',\n",
              "          file: file.name,\n",
              "          data: base64,\n",
              "        },\n",
              "      };\n",
              "\n",
              "      let percentDone = fileData.byteLength === 0 ?\n",
              "          100 :\n",
              "          Math.round((position / fileData.byteLength) * 100);\n",
              "      percent.textContent = `${percentDone}% done`;\n",
              "\n",
              "    } while (position < fileData.byteLength);\n",
              "  }\n",
              "\n",
              "  // All done.\n",
              "  yield {\n",
              "    response: {\n",
              "      action: 'complete',\n",
              "    }\n",
              "  };\n",
              "}\n",
              "\n",
              "scope.google = scope.google || {};\n",
              "scope.google.colab = scope.google.colab || {};\n",
              "scope.google.colab._files = {\n",
              "  _uploadFiles,\n",
              "  _uploadFilesContinue,\n",
              "};\n",
              "})(self);\n",
              "</script> "
            ]
          },
          "metadata": {}
        },
        {
          "output_type": "stream",
          "name": "stdout",
          "text": [
            "Saving Clinical NER.ipynb to Clinical NER (3).ipynb\n",
            "Saving README.md to README (3).md\n",
            "Saving synthetic_clinical_ner_dataset.csv to synthetic_clinical_ner_dataset (7).csv\n"
          ]
        }
      ]
    },
    {
      "cell_type": "code",
      "source": [
        "import nbformat\n",
        "\n",
        "notebook_path = \"Clinical NER.ipynb\"  # replace with your filename\n",
        "\n",
        "# Load notebook\n",
        "with open(notebook_path, \"r\", encoding=\"utf-8\") as f:\n",
        "    nb = nbformat.read(f, as_version=nbformat.NO_CONVERT)\n",
        "\n",
        "# Remove broken widgets metadata if it exists\n",
        "if \"widgets\" in nb[\"metadata\"]:\n",
        "    del nb[\"metadata\"][\"widgets\"]\n",
        "\n",
        "# Save cleaned notebook\n",
        "with open(notebook_path, \"w\", encoding=\"utf-8\") as f:\n",
        "    nbformat.write(nb, f)\n",
        "\n",
        "print(\"Notebook cleaned and saved.\")\n"
      ],
      "metadata": {
        "colab": {
          "base_uri": "https://localhost:8080/"
        },
        "id": "RUncFYYxmF4p",
        "outputId": "ce6df71d-08e4-4b9c-d73f-73989362efe4"
      },
      "id": "RUncFYYxmF4p",
      "execution_count": null,
      "outputs": [
        {
          "output_type": "stream",
          "name": "stdout",
          "text": [
            "Notebook cleaned and saved.\n"
          ]
        }
      ]
    },
    {
      "cell_type": "code",
      "execution_count": null,
      "id": "d456be6b",
      "metadata": {
        "id": "d456be6b"
      },
      "outputs": [],
      "source": [
        "import pandas as pd\n",
        "\n",
        "# Install packages in Colab\n",
        "!pip install -q datasets\n",
        "!pip install -q sklearn-crfsuite\n",
        "!pip install -q -U transformers\n",
        "!pip install -q torch\n",
        "!pip install -q -U accelerate\n",
        "!pip install -q transformers datasets seqeval\n",
        "\n",
        "from datasets import Dataset"
      ]
    },
    {
      "cell_type": "markdown",
      "id": "298caf5d",
      "metadata": {
        "id": "298caf5d"
      },
      "source": [
        "### 1.1 — Load and Preprocess the Dataset"
      ]
    },
    {
      "cell_type": "code",
      "execution_count": null,
      "id": "df1ede62",
      "metadata": {
        "colab": {
          "base_uri": "https://localhost:8080/"
        },
        "id": "df1ede62",
        "outputId": "de97f7fc-96f5-422e-fd1d-ce1acd6e4af7"
      },
      "outputs": [
        {
          "output_type": "stream",
          "name": "stdout",
          "text": [
            "       Token    NER_Tag\n",
            "0          A  B-SYMPTOM\n",
            "1      X-ray     B-TEST\n",
            "2  confirmed          O\n",
            "3        the          O\n",
            "4   presence          O\n"
          ]
        }
      ],
      "source": [
        "# Load the synthetic dataset\n",
        "data = pd.read_csv('synthetic_clinical_ner_dataset.csv')\n",
        "\n",
        "# Preview\n",
        "print(data.head())"
      ]
    },
    {
      "cell_type": "code",
      "execution_count": null,
      "id": "77bcbde3",
      "metadata": {
        "colab": {
          "base_uri": "https://localhost:8080/"
        },
        "id": "77bcbde3",
        "outputId": "d9064abe-08df-499d-adc0-3effea2dd7c0"
      },
      "outputs": [
        {
          "output_type": "stream",
          "name": "stdout",
          "text": [
            "Total sentences: 75\n",
            "Example sentence: [('A', 'B-SYMPTOM'), ('X-ray', 'B-TEST'), ('confirmed', 'O'), ('the', 'O'), ('presence', 'O'), ('of', 'B-DRUG'), ('C', 'B-DISEASE'), ('.', 'B-DISEASE'), ('difficile', 'B-DISEASE'), ('.', 'B-DISEASE')]\n"
          ]
        }
      ],
      "source": [
        "# Step 1: Reconstruct sentences\n",
        "sentences = []\n",
        "current_sentence = []\n",
        "\n",
        "for idx, row in data.iterrows():\n",
        "    token = row['Token']\n",
        "    tag = row['NER_Tag']\n",
        "\n",
        "    # Empty token means new sentence\n",
        "    if pd.isna(token) or token.strip() == \"\":\n",
        "        if current_sentence:\n",
        "            sentences.append(current_sentence)\n",
        "            current_sentence = []\n",
        "    else:\n",
        "        current_sentence.append((token, tag))\n",
        "\n",
        "# Add any last pending sentence\n",
        "if current_sentence:\n",
        "    sentences.append(current_sentence)\n",
        "\n",
        "print(f\"Total sentences: {len(sentences)}\")\n",
        "print(f\"Example sentence: {sentences[0]}\")"
      ]
    },
    {
      "cell_type": "markdown",
      "id": "904a4e2f",
      "metadata": {
        "id": "904a4e2f"
      },
      "source": [
        "### 1.2 — Training a CRF Model for Clinical NER"
      ]
    },
    {
      "cell_type": "markdown",
      "id": "a32abb87",
      "metadata": {
        "id": "a32abb87"
      },
      "source": [
        "#### Imports"
      ]
    },
    {
      "cell_type": "code",
      "execution_count": null,
      "id": "09de87af",
      "metadata": {
        "colab": {
          "base_uri": "https://localhost:8080/"
        },
        "id": "09de87af",
        "outputId": "5de9c100-35cb-446e-af01-b0f091746479"
      },
      "outputs": [
        {
          "output_type": "stream",
          "name": "stdout",
          "text": [
            "4.51.3\n"
          ]
        }
      ],
      "source": [
        "import sklearn_crfsuite\n",
        "from sklearn_crfsuite import metrics\n",
        "import random\n",
        "from sklearn.model_selection import train_test_split\n",
        "\n",
        "import transformers\n",
        "print(transformers.__version__)"
      ]
    },
    {
      "cell_type": "markdown",
      "id": "f28bdadb",
      "metadata": {
        "id": "f28bdadb"
      },
      "source": [
        "#### Helper Function"
      ]
    },
    {
      "cell_type": "code",
      "execution_count": null,
      "id": "6f1a19d6",
      "metadata": {
        "id": "6f1a19d6"
      },
      "outputs": [],
      "source": [
        "# --- Helper: Feature extractor per token ---\n",
        "def word2features(sent, i):\n",
        "    word = sent[i][0]\n",
        "    features = {\n",
        "        'bias': 1.0,\n",
        "        'word.lower()': word.lower(),\n",
        "        'word[-3:]': word[-3:],\n",
        "        'word[:3]': word[:3],\n",
        "        'word.isupper()': word.isupper(),\n",
        "        'word.istitle()': word.istitle(),\n",
        "        'word.isdigit()': word.isdigit()\n",
        "    }\n",
        "    if i > 0:\n",
        "        word1 = sent[i-1][0]\n",
        "        features.update({\n",
        "            '-1:word.lower()': word1.lower(),\n",
        "            '-1:word.istitle()': word1.istitle(),\n",
        "            '-1:word.isupper()': word1.isupper()\n",
        "        })\n",
        "    else:\n",
        "        features['BOS'] = True  # Beginning of sentence\n",
        "\n",
        "    if i < len(sent)-1:\n",
        "        word1 = sent[i+1][0]\n",
        "        features.update({\n",
        "            '+1:word.lower()': word1.lower(),\n",
        "            '+1:word.istitle()': word1.istitle(),\n",
        "            '+1:word.isupper()': word1.isupper()\n",
        "        })\n",
        "    else:\n",
        "        features['EOS'] = True  # End of sentence\n",
        "\n",
        "    return features\n",
        "\n",
        "def sent2features(sent):\n",
        "    return [word2features(sent, i) for i in range(len(sent))]\n",
        "\n",
        "def sent2labels(sent):\n",
        "    return [label for token, label in sent]\n",
        "\n",
        "def sent2tokens(sent):\n",
        "    return [token for token, label in sent]\n"
      ]
    },
    {
      "cell_type": "markdown",
      "id": "bd703f56",
      "metadata": {
        "id": "bd703f56"
      },
      "source": [
        "#### Code"
      ]
    },
    {
      "cell_type": "code",
      "execution_count": null,
      "id": "0278b36b",
      "metadata": {
        "colab": {
          "base_uri": "https://localhost:8080/"
        },
        "id": "0278b36b",
        "outputId": "bbb20c99-e381-4384-86b8-e3a1653a12e1"
      },
      "outputs": [
        {
          "output_type": "stream",
          "name": "stdout",
          "text": [
            "              precision    recall  f1-score   support\n",
            "\n",
            "   B-DISEASE      1.000     0.857     0.923        14\n",
            "      B-DRUG      0.857     0.857     0.857         7\n",
            "   B-SYMPTOM      0.889     0.941     0.914        17\n",
            "      B-TEST      1.000     0.833     0.909         6\n",
            "           O      0.971     0.990     0.980       101\n",
            "\n",
            "    accuracy                          0.959       145\n",
            "   macro avg      0.943     0.896     0.917       145\n",
            "weighted avg      0.960     0.959     0.958       145\n",
            "\n"
          ]
        }
      ],
      "source": [
        "# --- Create feature and label sets ---\n",
        "X = [sent2features(s) for s in sentences]\n",
        "y = [sent2labels(s) for s in sentences]\n",
        "\n",
        "# --- Train/Test Split ---\n",
        "X_train, X_test, y_train, y_test = train_test_split(X, y, test_size=0.2, random_state=42)\n",
        "\n",
        "# --- Train CRF ---\n",
        "crf = sklearn_crfsuite.CRF(\n",
        "    algorithm='lbfgs',\n",
        "    max_iterations=100,\n",
        "    all_possible_transitions=True\n",
        ")\n",
        "crf.fit(X_train, y_train)\n",
        "\n",
        "# --- Predict and Evaluate ---\n",
        "y_pred = crf.predict(X_test)\n",
        "\n",
        "print(metrics.flat_classification_report(y_test, y_pred, digits=3))"
      ]
    },
    {
      "cell_type": "markdown",
      "id": "3c9d51e1",
      "metadata": {
        "id": "3c9d51e1"
      },
      "source": [
        "### 1.3 — Fine-Tune BERT for Clinical NER (HuggingFace)"
      ]
    },
    {
      "cell_type": "markdown",
      "id": "3265a7f6",
      "metadata": {
        "id": "3265a7f6"
      },
      "source": [
        "#### Imports"
      ]
    },
    {
      "cell_type": "code",
      "execution_count": null,
      "id": "54be26f2",
      "metadata": {
        "id": "54be26f2"
      },
      "outputs": [],
      "source": [
        "import torch\n",
        "import numpy as np\n",
        "from datasets import Dataset\n",
        "from transformers import AutoTokenizer, AutoModelForTokenClassification, TrainingArguments, Trainer, DataCollatorForTokenClassification\n",
        "from sklearn.model_selection import train_test_split"
      ]
    },
    {
      "cell_type": "code",
      "source": [
        "from google.colab import files\n",
        "uploaded = files.upload()\n",
        "\n",
        "import pandas as pd\n",
        "\n",
        "df = pd.read_csv(\"synthetic_clinical_ner_dataset.csv\")\n",
        "df.fillna('', inplace=True)  # Handle sentence breaks"
      ],
      "metadata": {
        "colab": {
          "base_uri": "https://localhost:8080/",
          "height": 73
        },
        "id": "TZfKrkb5nKPF",
        "outputId": "d7716ea0-4908-46ed-f197-04d727e5c1df"
      },
      "id": "TZfKrkb5nKPF",
      "execution_count": null,
      "outputs": [
        {
          "output_type": "display_data",
          "data": {
            "text/plain": [
              "<IPython.core.display.HTML object>"
            ],
            "text/html": [
              "\n",
              "     <input type=\"file\" id=\"files-aaa97c4f-fb36-49fe-9eab-d42e905971c9\" name=\"files[]\" multiple disabled\n",
              "        style=\"border:none\" />\n",
              "     <output id=\"result-aaa97c4f-fb36-49fe-9eab-d42e905971c9\">\n",
              "      Upload widget is only available when the cell has been executed in the\n",
              "      current browser session. Please rerun this cell to enable.\n",
              "      </output>\n",
              "      <script>// Copyright 2017 Google LLC\n",
              "//\n",
              "// Licensed under the Apache License, Version 2.0 (the \"License\");\n",
              "// you may not use this file except in compliance with the License.\n",
              "// You may obtain a copy of the License at\n",
              "//\n",
              "//      http://www.apache.org/licenses/LICENSE-2.0\n",
              "//\n",
              "// Unless required by applicable law or agreed to in writing, software\n",
              "// distributed under the License is distributed on an \"AS IS\" BASIS,\n",
              "// WITHOUT WARRANTIES OR CONDITIONS OF ANY KIND, either express or implied.\n",
              "// See the License for the specific language governing permissions and\n",
              "// limitations under the License.\n",
              "\n",
              "/**\n",
              " * @fileoverview Helpers for google.colab Python module.\n",
              " */\n",
              "(function(scope) {\n",
              "function span(text, styleAttributes = {}) {\n",
              "  const element = document.createElement('span');\n",
              "  element.textContent = text;\n",
              "  for (const key of Object.keys(styleAttributes)) {\n",
              "    element.style[key] = styleAttributes[key];\n",
              "  }\n",
              "  return element;\n",
              "}\n",
              "\n",
              "// Max number of bytes which will be uploaded at a time.\n",
              "const MAX_PAYLOAD_SIZE = 100 * 1024;\n",
              "\n",
              "function _uploadFiles(inputId, outputId) {\n",
              "  const steps = uploadFilesStep(inputId, outputId);\n",
              "  const outputElement = document.getElementById(outputId);\n",
              "  // Cache steps on the outputElement to make it available for the next call\n",
              "  // to uploadFilesContinue from Python.\n",
              "  outputElement.steps = steps;\n",
              "\n",
              "  return _uploadFilesContinue(outputId);\n",
              "}\n",
              "\n",
              "// This is roughly an async generator (not supported in the browser yet),\n",
              "// where there are multiple asynchronous steps and the Python side is going\n",
              "// to poll for completion of each step.\n",
              "// This uses a Promise to block the python side on completion of each step,\n",
              "// then passes the result of the previous step as the input to the next step.\n",
              "function _uploadFilesContinue(outputId) {\n",
              "  const outputElement = document.getElementById(outputId);\n",
              "  const steps = outputElement.steps;\n",
              "\n",
              "  const next = steps.next(outputElement.lastPromiseValue);\n",
              "  return Promise.resolve(next.value.promise).then((value) => {\n",
              "    // Cache the last promise value to make it available to the next\n",
              "    // step of the generator.\n",
              "    outputElement.lastPromiseValue = value;\n",
              "    return next.value.response;\n",
              "  });\n",
              "}\n",
              "\n",
              "/**\n",
              " * Generator function which is called between each async step of the upload\n",
              " * process.\n",
              " * @param {string} inputId Element ID of the input file picker element.\n",
              " * @param {string} outputId Element ID of the output display.\n",
              " * @return {!Iterable<!Object>} Iterable of next steps.\n",
              " */\n",
              "function* uploadFilesStep(inputId, outputId) {\n",
              "  const inputElement = document.getElementById(inputId);\n",
              "  inputElement.disabled = false;\n",
              "\n",
              "  const outputElement = document.getElementById(outputId);\n",
              "  outputElement.innerHTML = '';\n",
              "\n",
              "  const pickedPromise = new Promise((resolve) => {\n",
              "    inputElement.addEventListener('change', (e) => {\n",
              "      resolve(e.target.files);\n",
              "    });\n",
              "  });\n",
              "\n",
              "  const cancel = document.createElement('button');\n",
              "  inputElement.parentElement.appendChild(cancel);\n",
              "  cancel.textContent = 'Cancel upload';\n",
              "  const cancelPromise = new Promise((resolve) => {\n",
              "    cancel.onclick = () => {\n",
              "      resolve(null);\n",
              "    };\n",
              "  });\n",
              "\n",
              "  // Wait for the user to pick the files.\n",
              "  const files = yield {\n",
              "    promise: Promise.race([pickedPromise, cancelPromise]),\n",
              "    response: {\n",
              "      action: 'starting',\n",
              "    }\n",
              "  };\n",
              "\n",
              "  cancel.remove();\n",
              "\n",
              "  // Disable the input element since further picks are not allowed.\n",
              "  inputElement.disabled = true;\n",
              "\n",
              "  if (!files) {\n",
              "    return {\n",
              "      response: {\n",
              "        action: 'complete',\n",
              "      }\n",
              "    };\n",
              "  }\n",
              "\n",
              "  for (const file of files) {\n",
              "    const li = document.createElement('li');\n",
              "    li.append(span(file.name, {fontWeight: 'bold'}));\n",
              "    li.append(span(\n",
              "        `(${file.type || 'n/a'}) - ${file.size} bytes, ` +\n",
              "        `last modified: ${\n",
              "            file.lastModifiedDate ? file.lastModifiedDate.toLocaleDateString() :\n",
              "                                    'n/a'} - `));\n",
              "    const percent = span('0% done');\n",
              "    li.appendChild(percent);\n",
              "\n",
              "    outputElement.appendChild(li);\n",
              "\n",
              "    const fileDataPromise = new Promise((resolve) => {\n",
              "      const reader = new FileReader();\n",
              "      reader.onload = (e) => {\n",
              "        resolve(e.target.result);\n",
              "      };\n",
              "      reader.readAsArrayBuffer(file);\n",
              "    });\n",
              "    // Wait for the data to be ready.\n",
              "    let fileData = yield {\n",
              "      promise: fileDataPromise,\n",
              "      response: {\n",
              "        action: 'continue',\n",
              "      }\n",
              "    };\n",
              "\n",
              "    // Use a chunked sending to avoid message size limits. See b/62115660.\n",
              "    let position = 0;\n",
              "    do {\n",
              "      const length = Math.min(fileData.byteLength - position, MAX_PAYLOAD_SIZE);\n",
              "      const chunk = new Uint8Array(fileData, position, length);\n",
              "      position += length;\n",
              "\n",
              "      const base64 = btoa(String.fromCharCode.apply(null, chunk));\n",
              "      yield {\n",
              "        response: {\n",
              "          action: 'append',\n",
              "          file: file.name,\n",
              "          data: base64,\n",
              "        },\n",
              "      };\n",
              "\n",
              "      let percentDone = fileData.byteLength === 0 ?\n",
              "          100 :\n",
              "          Math.round((position / fileData.byteLength) * 100);\n",
              "      percent.textContent = `${percentDone}% done`;\n",
              "\n",
              "    } while (position < fileData.byteLength);\n",
              "  }\n",
              "\n",
              "  // All done.\n",
              "  yield {\n",
              "    response: {\n",
              "      action: 'complete',\n",
              "    }\n",
              "  };\n",
              "}\n",
              "\n",
              "scope.google = scope.google || {};\n",
              "scope.google.colab = scope.google.colab || {};\n",
              "scope.google.colab._files = {\n",
              "  _uploadFiles,\n",
              "  _uploadFilesContinue,\n",
              "};\n",
              "})(self);\n",
              "</script> "
            ]
          },
          "metadata": {}
        },
        {
          "output_type": "stream",
          "name": "stdout",
          "text": [
            "Saving synthetic_clinical_ner_dataset.csv to synthetic_clinical_ner_dataset (8).csv\n"
          ]
        }
      ]
    },
    {
      "cell_type": "markdown",
      "id": "dca4cca4",
      "metadata": {
        "id": "dca4cca4"
      },
      "source": [
        "#### Code"
      ]
    },
    {
      "cell_type": "code",
      "source": [
        "sentences = []\n",
        "sentence = []\n",
        "for _, row in df.iterrows():\n",
        "    token, tag = row[\"Token\"], row[\"NER_Tag\"]\n",
        "    if token == \"\":\n",
        "        if sentence:\n",
        "            sentences.append(sentence)\n",
        "            sentence = []\n",
        "    else:\n",
        "        sentence.append((token, tag))\n",
        "if sentence:\n",
        "    sentences.append(sentence)\n"
      ],
      "metadata": {
        "id": "e8cfOHVXntEA"
      },
      "id": "e8cfOHVXntEA",
      "execution_count": null,
      "outputs": []
    },
    {
      "cell_type": "markdown",
      "source": [
        "#### Convert to HuggingFace Format"
      ],
      "metadata": {
        "id": "XMYylGH4oKUK"
      },
      "id": "XMYylGH4oKUK"
    },
    {
      "cell_type": "code",
      "source": [
        "token_list = [[t for t, l in sent] for sent in sentences]\n",
        "tag_list = [[l for t, l in sent] for sent in sentences]\n",
        "unique_tags = sorted(set(tag for seq in tag_list for tag in seq))\n",
        "tag2id = {tag: idx for idx, tag in enumerate(unique_tags)}\n",
        "id2tag = {idx: tag for tag, idx in tag2id.items()}\n",
        "tag_list_ids = [[tag2id[tag] for tag in seq] for seq in tag_list]\n",
        "\n",
        "dataset = Dataset.from_dict({\"tokens\": token_list, \"ner_tags\": tag_list_ids})\n",
        "data_split = dataset.train_test_split(test_size=0.2)\n"
      ],
      "metadata": {
        "id": "U2QPxkMGn_8E"
      },
      "id": "U2QPxkMGn_8E",
      "execution_count": null,
      "outputs": []
    },
    {
      "cell_type": "markdown",
      "source": [
        "#### Tokenize and Align Labels"
      ],
      "metadata": {
        "id": "d211l5jMtIqP"
      },
      "id": "d211l5jMtIqP"
    },
    {
      "cell_type": "code",
      "source": [
        "from transformers import AutoTokenizer\n",
        "\n",
        "tokenizer = AutoTokenizer.from_pretrained(\"bert-base-cased\")\n",
        "\n",
        "def tokenize_and_align_labels(examples):\n",
        "    tokenized_inputs = tokenizer(\n",
        "        examples[\"tokens\"],\n",
        "        truncation=True,\n",
        "        is_split_into_words=True,\n",
        "        padding=True\n",
        "    )\n",
        "\n",
        "    labels = []\n",
        "    for i, label in enumerate(examples[\"ner_tags\"]):\n",
        "        word_ids = tokenized_inputs.word_ids(batch_index=i)\n",
        "        previous_word_id = None\n",
        "        label_ids = []\n",
        "\n",
        "        for word_id in word_ids:\n",
        "            if word_id is None:\n",
        "                label_ids.append(-100)  # Ignored in loss\n",
        "            elif word_id != previous_word_id:\n",
        "                label_ids.append(label[word_id])\n",
        "            else:\n",
        "                label_ids.append(-100)\n",
        "            previous_word_id = word_id\n",
        "\n",
        "        labels.append(label_ids)\n",
        "\n",
        "    tokenized_inputs[\"labels\"] = labels\n",
        "    return tokenized_inputs\n",
        "\n",
        "# Apply to both train and test\n",
        "tokenized_data = data_split.map(tokenize_and_align_labels, batched=True)\n"
      ],
      "metadata": {
        "colab": {
          "base_uri": "https://localhost:8080/",
          "height": 205,
          "referenced_widgets": [
            "6687bf108a334d66be6a126957c6e6b9",
            "1c87d38899a241a38154fab77eab92da",
            "0514f56d7e4b4fd18908fcfdf099b881",
            "da0e8bbee62a4b7f9b91adfca91a2fe0",
            "065b2f66615042bb86333cc7789b5b46",
            "77315d7bfa0d4c898114488c348fa448",
            "944e2feb8fe745ebac9429018d878335",
            "0fea9ab16976404298eb7ded53ac5d62",
            "d25ad31f93144469a545999851a797a6",
            "5df63c24d0d44bcfba8ce28ab537e2c7",
            "6a6a8e400fdc4252869efac157087126",
            "f7934ee15de843b19ffd3436b57e3310",
            "89af872e1a354ea3a8a8a48e4f9d3fd3",
            "755ef48cffab452ba5f5fd51f24971fe",
            "00f7223287974756b3870ecaf16c5439",
            "37d8527b10744fbea5c12dc234f9ba0c",
            "4acd5286a30c40198b575d41da8ea25d",
            "83bae51168ee44e5942561c4f9aa7475",
            "85bcd1d598014b6db53040300327593c",
            "3bcfc08f81b54202a6d0ab34d2832c20",
            "df56367e56ba42389db1b7f8f2015695",
            "744d4532dcbc49438a6aaf8b965bc5c3"
          ]
        },
        "id": "uptPcD6qtQav",
        "outputId": "e515e4d9-85ad-4db0-dee7-7a35f953ee1b"
      },
      "id": "uptPcD6qtQav",
      "execution_count": null,
      "outputs": [
        {
          "output_type": "stream",
          "name": "stderr",
          "text": [
            "/usr/local/lib/python3.11/dist-packages/huggingface_hub/utils/_auth.py:94: UserWarning: \n",
            "The secret `HF_TOKEN` does not exist in your Colab secrets.\n",
            "To authenticate with the Hugging Face Hub, create a token in your settings tab (https://huggingface.co/settings/tokens), set it as secret in your Google Colab and restart your session.\n",
            "You will be able to reuse this secret in all of your notebooks.\n",
            "Please note that authentication is recommended but still optional to access public models or datasets.\n",
            "  warnings.warn(\n"
          ]
        },
        {
          "output_type": "display_data",
          "data": {
            "text/plain": [
              "Map:   0%|          | 0/60 [00:00<?, ? examples/s]"
            ],
            "application/vnd.jupyter.widget-view+json": {
              "version_major": 2,
              "version_minor": 0,
              "model_id": "6687bf108a334d66be6a126957c6e6b9"
            }
          },
          "metadata": {}
        },
        {
          "output_type": "display_data",
          "data": {
            "text/plain": [
              "Map:   0%|          | 0/15 [00:00<?, ? examples/s]"
            ],
            "application/vnd.jupyter.widget-view+json": {
              "version_major": 2,
              "version_minor": 0,
              "model_id": "f7934ee15de843b19ffd3436b57e3310"
            }
          },
          "metadata": {}
        }
      ]
    },
    {
      "cell_type": "markdown",
      "source": [
        "#### Fine-Tune with HuggingFace"
      ],
      "metadata": {
        "id": "etmRSa3VtZ7N"
      },
      "id": "etmRSa3VtZ7N"
    },
    {
      "cell_type": "code",
      "source": [
        "from transformers import AutoModelForTokenClassification, DataCollatorForTokenClassification\n",
        "\n",
        "model = AutoModelForTokenClassification.from_pretrained(\n",
        "    \"bert-base-cased\",\n",
        "    num_labels=len(tag2id),\n",
        "    id2label=id2tag,\n",
        "    label2id=tag2id\n",
        ")\n",
        "\n",
        "data_collator = DataCollatorForTokenClassification(tokenizer)\n"
      ],
      "metadata": {
        "colab": {
          "base_uri": "https://localhost:8080/"
        },
        "id": "UuegBV64thiA",
        "outputId": "40015f66-782f-470a-83a0-6f055169184b"
      },
      "id": "UuegBV64thiA",
      "execution_count": null,
      "outputs": [
        {
          "output_type": "stream",
          "name": "stderr",
          "text": [
            "Some weights of BertForTokenClassification were not initialized from the model checkpoint at bert-base-cased and are newly initialized: ['classifier.bias', 'classifier.weight']\n",
            "You should probably TRAIN this model on a down-stream task to be able to use it for predictions and inference.\n"
          ]
        }
      ]
    },
    {
      "cell_type": "markdown",
      "source": [
        "#### Set up training arguments"
      ],
      "metadata": {
        "id": "J3w86A63tn7I"
      },
      "id": "J3w86A63tn7I"
    },
    {
      "cell_type": "code",
      "source": [
        "import transformers\n",
        "print(transformers.__version__)"
      ],
      "metadata": {
        "colab": {
          "base_uri": "https://localhost:8080/"
        },
        "id": "lEg89ChFvZvH",
        "outputId": "4c2d5c9d-33b1-4427-aef6-26dc6911fcca"
      },
      "id": "lEg89ChFvZvH",
      "execution_count": null,
      "outputs": [
        {
          "output_type": "stream",
          "name": "stdout",
          "text": [
            "4.51.3\n"
          ]
        }
      ]
    },
    {
      "cell_type": "code",
      "source": [
        "from transformers import TrainingArguments\n",
        "\n",
        "training_args = TrainingArguments(\n",
        "    output_dir=\"./bert_clinical_ner\",\n",
        "    num_train_epochs=3,\n",
        "    per_device_train_batch_size=8,\n",
        "    per_device_eval_batch_size=8,\n",
        "    logging_dir=\"./logs\",\n",
        "    logging_steps=10\n",
        ")\n"
      ],
      "metadata": {
        "id": "dxnyxxa4tpus"
      },
      "id": "dxnyxxa4tpus",
      "execution_count": null,
      "outputs": []
    },
    {
      "cell_type": "code",
      "source": [
        "from transformers import Trainer\n",
        "\n",
        "trainer = Trainer(\n",
        "    model=model,\n",
        "    args=training_args,\n",
        "    train_dataset=tokenized_data[\"train\"],\n",
        "    eval_dataset=tokenized_data[\"test\"],\n",
        "    tokenizer=tokenizer,\n",
        "    data_collator=data_collator\n",
        ")\n",
        "\n",
        "# Now train\n",
        "trainer.train()"
      ],
      "metadata": {
        "colab": {
          "base_uri": "https://localhost:8080/",
          "height": 349
        },
        "id": "HPoWwzTmwD2O",
        "outputId": "b8c47be0-2662-4ce8-8f11-4757ffefdc8b"
      },
      "id": "HPoWwzTmwD2O",
      "execution_count": null,
      "outputs": [
        {
          "output_type": "stream",
          "name": "stderr",
          "text": [
            "<ipython-input-17-551e7a86b2cf>:3: FutureWarning: `tokenizer` is deprecated and will be removed in version 5.0.0 for `Trainer.__init__`. Use `processing_class` instead.\n",
            "  trainer = Trainer(\n",
            "\u001b[34m\u001b[1mwandb\u001b[0m: \u001b[33mWARNING\u001b[0m The `run_name` is currently set to the same value as `TrainingArguments.output_dir`. If this was not intended, please specify a different run name by setting the `TrainingArguments.run_name` parameter.\n",
            "\u001b[34m\u001b[1mwandb\u001b[0m: Currently logged in as: \u001b[33mimoore\u001b[0m (\u001b[33mimoore-university-of-delaware\u001b[0m) to \u001b[32mhttps://api.wandb.ai\u001b[0m. Use \u001b[1m`wandb login --relogin`\u001b[0m to force relogin\n"
          ]
        },
        {
          "output_type": "display_data",
          "data": {
            "text/plain": [
              "<IPython.core.display.HTML object>"
            ],
            "text/html": [
              "Tracking run with wandb version 0.19.10"
            ]
          },
          "metadata": {}
        },
        {
          "output_type": "display_data",
          "data": {
            "text/plain": [
              "<IPython.core.display.HTML object>"
            ],
            "text/html": [
              "Run data is saved locally in <code>/content/wandb/run-20250511_200129-qn9yqbxx</code>"
            ]
          },
          "metadata": {}
        },
        {
          "output_type": "display_data",
          "data": {
            "text/plain": [
              "<IPython.core.display.HTML object>"
            ],
            "text/html": [
              "Syncing run <strong><a href='https://wandb.ai/imoore-university-of-delaware/huggingface/runs/qn9yqbxx' target=\"_blank\">./bert_clinical_ner</a></strong> to <a href='https://wandb.ai/imoore-university-of-delaware/huggingface' target=\"_blank\">Weights & Biases</a> (<a href='https://wandb.me/developer-guide' target=\"_blank\">docs</a>)<br>"
            ]
          },
          "metadata": {}
        },
        {
          "output_type": "display_data",
          "data": {
            "text/plain": [
              "<IPython.core.display.HTML object>"
            ],
            "text/html": [
              " View project at <a href='https://wandb.ai/imoore-university-of-delaware/huggingface' target=\"_blank\">https://wandb.ai/imoore-university-of-delaware/huggingface</a>"
            ]
          },
          "metadata": {}
        },
        {
          "output_type": "display_data",
          "data": {
            "text/plain": [
              "<IPython.core.display.HTML object>"
            ],
            "text/html": [
              " View run at <a href='https://wandb.ai/imoore-university-of-delaware/huggingface/runs/qn9yqbxx' target=\"_blank\">https://wandb.ai/imoore-university-of-delaware/huggingface/runs/qn9yqbxx</a>"
            ]
          },
          "metadata": {}
        },
        {
          "output_type": "display_data",
          "data": {
            "text/plain": [
              "<IPython.core.display.HTML object>"
            ],
            "text/html": [
              "\n",
              "    <div>\n",
              "      \n",
              "      <progress value='24' max='24' style='width:300px; height:20px; vertical-align: middle;'></progress>\n",
              "      [24/24 01:39, Epoch 3/3]\n",
              "    </div>\n",
              "    <table border=\"1\" class=\"dataframe\">\n",
              "  <thead>\n",
              " <tr style=\"text-align: left;\">\n",
              "      <th>Step</th>\n",
              "      <th>Training Loss</th>\n",
              "    </tr>\n",
              "  </thead>\n",
              "  <tbody>\n",
              "    <tr>\n",
              "      <td>10</td>\n",
              "      <td>0.834100</td>\n",
              "    </tr>\n",
              "    <tr>\n",
              "      <td>20</td>\n",
              "      <td>0.256500</td>\n",
              "    </tr>\n",
              "  </tbody>\n",
              "</table><p>"
            ]
          },
          "metadata": {}
        },
        {
          "output_type": "execute_result",
          "data": {
            "text/plain": [
              "TrainOutput(global_step=24, training_loss=0.48953751226266223, metrics={'train_runtime': 111.4321, 'train_samples_per_second': 1.615, 'train_steps_per_second': 0.215, 'total_flos': 2112886549800.0, 'train_loss': 0.48953751226266223, 'epoch': 3.0})"
            ]
          },
          "metadata": {},
          "execution_count": 17
        }
      ]
    },
    {
      "cell_type": "markdown",
      "source": [],
      "metadata": {
        "id": "mGZJlA7WteWc"
      },
      "id": "mGZJlA7WteWc"
    },
    {
      "cell_type": "markdown",
      "source": [
        "#### Evaluate Model with classification_report"
      ],
      "metadata": {
        "id": "y5jm_79QxP-Z"
      },
      "id": "y5jm_79QxP-Z"
    },
    {
      "cell_type": "code",
      "source": [
        "import numpy as np\n",
        "from sklearn.metrics import classification_report\n",
        "\n",
        "# Get model predictions\n",
        "predictions, labels, _ = trainer.predict(tokenized_data[\"test\"])\n",
        "preds = np.argmax(predictions, axis=-1)\n",
        "\n",
        "# Reconstruct true and predicted label sequences\n",
        "true_labels = []\n",
        "true_preds = []\n",
        "\n",
        "for pred_seq, label_seq in zip(preds, labels):\n",
        "    for pred, label in zip(pred_seq, label_seq):\n",
        "        if label != -100:\n",
        "            true_preds.append(id2tag[pred])\n",
        "            true_labels.append(id2tag[label])\n",
        "\n",
        "# Display evaluation metrics\n",
        "print(classification_report(true_labels, true_preds, digits=3))\n"
      ],
      "metadata": {
        "colab": {
          "base_uri": "https://localhost:8080/",
          "height": 225
        },
        "id": "ffiBSDrgxTVA",
        "outputId": "c9b273ad-01af-485d-8749-772a436fc1c8"
      },
      "id": "ffiBSDrgxTVA",
      "execution_count": null,
      "outputs": [
        {
          "output_type": "display_data",
          "data": {
            "text/plain": [
              "<IPython.core.display.HTML object>"
            ],
            "text/html": []
          },
          "metadata": {}
        },
        {
          "output_type": "stream",
          "name": "stdout",
          "text": [
            "              precision    recall  f1-score   support\n",
            "\n",
            "   B-DISEASE      0.786     0.786     0.786        14\n",
            "      B-DRUG      1.000     1.000     1.000         6\n",
            "   B-SYMPTOM      0.842     0.800     0.821        20\n",
            "      B-TEST      1.000     0.636     0.778        11\n",
            "           O      0.934     0.980     0.957       101\n",
            "\n",
            "    accuracy                          0.914       152\n",
            "   macro avg      0.912     0.840     0.868       152\n",
            "weighted avg      0.916     0.914     0.912       152\n",
            "\n"
          ]
        }
      ]
    },
    {
      "cell_type": "markdown",
      "id": "1175cdae",
      "metadata": {
        "id": "1175cdae"
      },
      "source": [
        "##Task 2: Clinical Paragraph Similarity with CRF and BERT."
      ]
    },
    {
      "cell_type": "markdown",
      "source": [
        "### Step 2.1 — Extract Clinical Paragraphs"
      ],
      "metadata": {
        "id": "XckvDeGXx2D6"
      },
      "id": "XckvDeGXx2D6"
    },
    {
      "cell_type": "code",
      "source": [
        "import pandas as pd\n",
        "\n",
        "# Re-load CSV (or reuse if already loaded)\n",
        "df = pd.read_csv(\"synthetic_clinical_ner_dataset.csv\")\n",
        "df.fillna('', inplace=True)\n",
        "\n",
        "# Rebuild paragraphs\n",
        "paragraphs = []\n",
        "current_sentence = []\n",
        "\n",
        "for _, row in df.iterrows():\n",
        "    token = row['Token']\n",
        "    if token == '':\n",
        "        if current_sentence:\n",
        "            paragraphs.append(\" \".join(current_sentence))\n",
        "            current_sentence = []\n",
        "    else:\n",
        "        current_sentence.append(token)\n",
        "\n",
        "# Add last sentence if missed\n",
        "if current_sentence:\n",
        "    paragraphs.append(\" \".join(current_sentence))\n",
        "\n",
        "print(f\"Loaded {len(paragraphs)} clinical paragraphs.\")\n",
        "print(paragraphs[:2])  # Preview first 2\n"
      ],
      "metadata": {
        "colab": {
          "base_uri": "https://localhost:8080/"
        },
        "id": "qQXm-M-2x58K",
        "outputId": "1f39a191-cdf6-4ec3-9160-c257384d2d24"
      },
      "id": "qQXm-M-2x58K",
      "execution_count": null,
      "outputs": [
        {
          "output_type": "stream",
          "name": "stdout",
          "text": [
            "Loaded 75 clinical paragraphs.\n",
            "['A X-ray confirmed the presence of C . difficile .', 'A X-ray confirmed the presence of C . difficile .']\n"
          ]
        }
      ]
    },
    {
      "cell_type": "markdown",
      "source": [
        "“I decided to compute paragraph-level embeddings using BERT (instead of Word2Vec) for semantic similarity, due to compatibility issues with legacy vector formats.”"
      ],
      "metadata": {
        "id": "WHun0qPTz4rF"
      },
      "id": "WHun0qPTz4rF"
    },
    {
      "cell_type": "markdown",
      "source": [
        "### Step 2.2: Clinical Paragraph Similarity with BERT"
      ],
      "metadata": {
        "id": "c-c5iWtUyAox"
      },
      "id": "c-c5iWtUyAox"
    },
    {
      "cell_type": "code",
      "source": [
        "!pip install -q transformers"
      ],
      "metadata": {
        "id": "uRuTu3dgy4cy"
      },
      "id": "uRuTu3dgy4cy",
      "execution_count": null,
      "outputs": []
    },
    {
      "cell_type": "code",
      "source": [
        "from transformers import BertTokenizer, BertModel\n",
        "import torch\n",
        "import numpy as np\n",
        "from sklearn.metrics.pairwise import cosine_similarity\n",
        "\n",
        "# Load tokenizer and model\n",
        "tokenizer = BertTokenizer.from_pretrained('bert-base-uncased')\n",
        "model = BertModel.from_pretrained('bert-base-uncased')\n",
        "model.eval()  # Disable dropout\n",
        "\n",
        "# Function to get BERT [CLS] or mean embeddings\n",
        "def get_bert_embedding(text):\n",
        "    inputs = tokenizer(text, return_tensors='pt', truncation=True, padding=True)\n",
        "    with torch.no_grad():\n",
        "        outputs = model(**inputs)\n",
        "    last_hidden_state = outputs.last_hidden_state\n",
        "    # Mean pooling\n",
        "    embedding = last_hidden_state.mean(dim=1).squeeze().numpy()\n",
        "    return embedding\n",
        "\n",
        "# Compute embeddings for each clinical paragraph\n",
        "bert_embeddings = np.array([get_bert_embedding(p) for p in paragraphs])\n",
        "\n",
        "# Compute cosine similarity matrix\n",
        "bert_cosine_sim = cosine_similarity(bert_embeddings)\n",
        "\n",
        "# Preview as DataFrame\n",
        "import pandas as pd\n",
        "similarity_df = pd.DataFrame(bert_cosine_sim)\n",
        "similarity_df.head()\n"
      ],
      "metadata": {
        "colab": {
          "base_uri": "https://localhost:8080/",
          "height": 255
        },
        "id": "rooOvHJ1yqyP",
        "outputId": "7c28ba46-4286-41d9-bc67-8b7e12d004fe"
      },
      "id": "rooOvHJ1yqyP",
      "execution_count": null,
      "outputs": [
        {
          "output_type": "execute_result",
          "data": {
            "text/plain": [
              "         0         1         2         3         4         5         6   \\\n",
              "0  1.000000  1.000000  0.655381  0.647520  0.635223  0.543959  0.698750   \n",
              "1  1.000000  1.000000  0.655381  0.647520  0.635223  0.543959  0.698750   \n",
              "2  0.655381  0.655381  1.000000  0.742800  0.749951  0.627571  0.813488   \n",
              "3  0.647520  0.647520  0.742800  1.000000  0.721523  0.689597  0.712602   \n",
              "4  0.635223  0.635223  0.749951  0.721523  1.000000  0.616245  0.741864   \n",
              "\n",
              "         7         8         9   ...        65        66        67        68  \\\n",
              "0  0.649331  0.723272  0.636557  ...  0.671775  0.621248  0.939762  0.772485   \n",
              "1  0.649331  0.723272  0.636557  ...  0.671775  0.621248  0.939762  0.772485   \n",
              "2  0.762509  0.801300  0.864054  ...  0.936365  0.825302  0.676576  0.818841   \n",
              "3  0.797193  0.720370  0.751036  ...  0.780866  0.758126  0.681005  0.766696   \n",
              "4  0.870075  0.814280  0.694957  ...  0.724504  0.842246  0.650023  0.806975   \n",
              "\n",
              "         69        70        71        72        73        74  \n",
              "0  0.597763  0.649331  0.594962  0.649331  0.656080  0.605292  \n",
              "1  0.597763  0.649331  0.594962  0.649331  0.656080  0.605292  \n",
              "2  0.859677  0.762509  0.836426  0.762509  0.768384  0.734685  \n",
              "3  0.725174  0.797194  0.729151  0.797193  0.739753  0.860028  \n",
              "4  0.682797  0.870075  0.689469  0.870075  0.701320  0.739863  \n",
              "\n",
              "[5 rows x 75 columns]"
            ],
            "text/html": [
              "\n",
              "  <div id=\"df-d7fea38c-4d0a-4fd6-8869-ee09a36cdeb2\" class=\"colab-df-container\">\n",
              "    <div>\n",
              "<style scoped>\n",
              "    .dataframe tbody tr th:only-of-type {\n",
              "        vertical-align: middle;\n",
              "    }\n",
              "\n",
              "    .dataframe tbody tr th {\n",
              "        vertical-align: top;\n",
              "    }\n",
              "\n",
              "    .dataframe thead th {\n",
              "        text-align: right;\n",
              "    }\n",
              "</style>\n",
              "<table border=\"1\" class=\"dataframe\">\n",
              "  <thead>\n",
              "    <tr style=\"text-align: right;\">\n",
              "      <th></th>\n",
              "      <th>0</th>\n",
              "      <th>1</th>\n",
              "      <th>2</th>\n",
              "      <th>3</th>\n",
              "      <th>4</th>\n",
              "      <th>5</th>\n",
              "      <th>6</th>\n",
              "      <th>7</th>\n",
              "      <th>8</th>\n",
              "      <th>9</th>\n",
              "      <th>...</th>\n",
              "      <th>65</th>\n",
              "      <th>66</th>\n",
              "      <th>67</th>\n",
              "      <th>68</th>\n",
              "      <th>69</th>\n",
              "      <th>70</th>\n",
              "      <th>71</th>\n",
              "      <th>72</th>\n",
              "      <th>73</th>\n",
              "      <th>74</th>\n",
              "    </tr>\n",
              "  </thead>\n",
              "  <tbody>\n",
              "    <tr>\n",
              "      <th>0</th>\n",
              "      <td>1.000000</td>\n",
              "      <td>1.000000</td>\n",
              "      <td>0.655381</td>\n",
              "      <td>0.647520</td>\n",
              "      <td>0.635223</td>\n",
              "      <td>0.543959</td>\n",
              "      <td>0.698750</td>\n",
              "      <td>0.649331</td>\n",
              "      <td>0.723272</td>\n",
              "      <td>0.636557</td>\n",
              "      <td>...</td>\n",
              "      <td>0.671775</td>\n",
              "      <td>0.621248</td>\n",
              "      <td>0.939762</td>\n",
              "      <td>0.772485</td>\n",
              "      <td>0.597763</td>\n",
              "      <td>0.649331</td>\n",
              "      <td>0.594962</td>\n",
              "      <td>0.649331</td>\n",
              "      <td>0.656080</td>\n",
              "      <td>0.605292</td>\n",
              "    </tr>\n",
              "    <tr>\n",
              "      <th>1</th>\n",
              "      <td>1.000000</td>\n",
              "      <td>1.000000</td>\n",
              "      <td>0.655381</td>\n",
              "      <td>0.647520</td>\n",
              "      <td>0.635223</td>\n",
              "      <td>0.543959</td>\n",
              "      <td>0.698750</td>\n",
              "      <td>0.649331</td>\n",
              "      <td>0.723272</td>\n",
              "      <td>0.636557</td>\n",
              "      <td>...</td>\n",
              "      <td>0.671775</td>\n",
              "      <td>0.621248</td>\n",
              "      <td>0.939762</td>\n",
              "      <td>0.772485</td>\n",
              "      <td>0.597763</td>\n",
              "      <td>0.649331</td>\n",
              "      <td>0.594962</td>\n",
              "      <td>0.649331</td>\n",
              "      <td>0.656080</td>\n",
              "      <td>0.605292</td>\n",
              "    </tr>\n",
              "    <tr>\n",
              "      <th>2</th>\n",
              "      <td>0.655381</td>\n",
              "      <td>0.655381</td>\n",
              "      <td>1.000000</td>\n",
              "      <td>0.742800</td>\n",
              "      <td>0.749951</td>\n",
              "      <td>0.627571</td>\n",
              "      <td>0.813488</td>\n",
              "      <td>0.762509</td>\n",
              "      <td>0.801300</td>\n",
              "      <td>0.864054</td>\n",
              "      <td>...</td>\n",
              "      <td>0.936365</td>\n",
              "      <td>0.825302</td>\n",
              "      <td>0.676576</td>\n",
              "      <td>0.818841</td>\n",
              "      <td>0.859677</td>\n",
              "      <td>0.762509</td>\n",
              "      <td>0.836426</td>\n",
              "      <td>0.762509</td>\n",
              "      <td>0.768384</td>\n",
              "      <td>0.734685</td>\n",
              "    </tr>\n",
              "    <tr>\n",
              "      <th>3</th>\n",
              "      <td>0.647520</td>\n",
              "      <td>0.647520</td>\n",
              "      <td>0.742800</td>\n",
              "      <td>1.000000</td>\n",
              "      <td>0.721523</td>\n",
              "      <td>0.689597</td>\n",
              "      <td>0.712602</td>\n",
              "      <td>0.797193</td>\n",
              "      <td>0.720370</td>\n",
              "      <td>0.751036</td>\n",
              "      <td>...</td>\n",
              "      <td>0.780866</td>\n",
              "      <td>0.758126</td>\n",
              "      <td>0.681005</td>\n",
              "      <td>0.766696</td>\n",
              "      <td>0.725174</td>\n",
              "      <td>0.797194</td>\n",
              "      <td>0.729151</td>\n",
              "      <td>0.797193</td>\n",
              "      <td>0.739753</td>\n",
              "      <td>0.860028</td>\n",
              "    </tr>\n",
              "    <tr>\n",
              "      <th>4</th>\n",
              "      <td>0.635223</td>\n",
              "      <td>0.635223</td>\n",
              "      <td>0.749951</td>\n",
              "      <td>0.721523</td>\n",
              "      <td>1.000000</td>\n",
              "      <td>0.616245</td>\n",
              "      <td>0.741864</td>\n",
              "      <td>0.870075</td>\n",
              "      <td>0.814280</td>\n",
              "      <td>0.694957</td>\n",
              "      <td>...</td>\n",
              "      <td>0.724504</td>\n",
              "      <td>0.842246</td>\n",
              "      <td>0.650023</td>\n",
              "      <td>0.806975</td>\n",
              "      <td>0.682797</td>\n",
              "      <td>0.870075</td>\n",
              "      <td>0.689469</td>\n",
              "      <td>0.870075</td>\n",
              "      <td>0.701320</td>\n",
              "      <td>0.739863</td>\n",
              "    </tr>\n",
              "  </tbody>\n",
              "</table>\n",
              "<p>5 rows × 75 columns</p>\n",
              "</div>\n",
              "    <div class=\"colab-df-buttons\">\n",
              "\n",
              "  <div class=\"colab-df-container\">\n",
              "    <button class=\"colab-df-convert\" onclick=\"convertToInteractive('df-d7fea38c-4d0a-4fd6-8869-ee09a36cdeb2')\"\n",
              "            title=\"Convert this dataframe to an interactive table.\"\n",
              "            style=\"display:none;\">\n",
              "\n",
              "  <svg xmlns=\"http://www.w3.org/2000/svg\" height=\"24px\" viewBox=\"0 -960 960 960\">\n",
              "    <path d=\"M120-120v-720h720v720H120Zm60-500h600v-160H180v160Zm220 220h160v-160H400v160Zm0 220h160v-160H400v160ZM180-400h160v-160H180v160Zm440 0h160v-160H620v160ZM180-180h160v-160H180v160Zm440 0h160v-160H620v160Z\"/>\n",
              "  </svg>\n",
              "    </button>\n",
              "\n",
              "  <style>\n",
              "    .colab-df-container {\n",
              "      display:flex;\n",
              "      gap: 12px;\n",
              "    }\n",
              "\n",
              "    .colab-df-convert {\n",
              "      background-color: #E8F0FE;\n",
              "      border: none;\n",
              "      border-radius: 50%;\n",
              "      cursor: pointer;\n",
              "      display: none;\n",
              "      fill: #1967D2;\n",
              "      height: 32px;\n",
              "      padding: 0 0 0 0;\n",
              "      width: 32px;\n",
              "    }\n",
              "\n",
              "    .colab-df-convert:hover {\n",
              "      background-color: #E2EBFA;\n",
              "      box-shadow: 0px 1px 2px rgba(60, 64, 67, 0.3), 0px 1px 3px 1px rgba(60, 64, 67, 0.15);\n",
              "      fill: #174EA6;\n",
              "    }\n",
              "\n",
              "    .colab-df-buttons div {\n",
              "      margin-bottom: 4px;\n",
              "    }\n",
              "\n",
              "    [theme=dark] .colab-df-convert {\n",
              "      background-color: #3B4455;\n",
              "      fill: #D2E3FC;\n",
              "    }\n",
              "\n",
              "    [theme=dark] .colab-df-convert:hover {\n",
              "      background-color: #434B5C;\n",
              "      box-shadow: 0px 1px 3px 1px rgba(0, 0, 0, 0.15);\n",
              "      filter: drop-shadow(0px 1px 2px rgba(0, 0, 0, 0.3));\n",
              "      fill: #FFFFFF;\n",
              "    }\n",
              "  </style>\n",
              "\n",
              "    <script>\n",
              "      const buttonEl =\n",
              "        document.querySelector('#df-d7fea38c-4d0a-4fd6-8869-ee09a36cdeb2 button.colab-df-convert');\n",
              "      buttonEl.style.display =\n",
              "        google.colab.kernel.accessAllowed ? 'block' : 'none';\n",
              "\n",
              "      async function convertToInteractive(key) {\n",
              "        const element = document.querySelector('#df-d7fea38c-4d0a-4fd6-8869-ee09a36cdeb2');\n",
              "        const dataTable =\n",
              "          await google.colab.kernel.invokeFunction('convertToInteractive',\n",
              "                                                    [key], {});\n",
              "        if (!dataTable) return;\n",
              "\n",
              "        const docLinkHtml = 'Like what you see? Visit the ' +\n",
              "          '<a target=\"_blank\" href=https://colab.research.google.com/notebooks/data_table.ipynb>data table notebook</a>'\n",
              "          + ' to learn more about interactive tables.';\n",
              "        element.innerHTML = '';\n",
              "        dataTable['output_type'] = 'display_data';\n",
              "        await google.colab.output.renderOutput(dataTable, element);\n",
              "        const docLink = document.createElement('div');\n",
              "        docLink.innerHTML = docLinkHtml;\n",
              "        element.appendChild(docLink);\n",
              "      }\n",
              "    </script>\n",
              "  </div>\n",
              "\n",
              "\n",
              "    <div id=\"df-35704228-7ea4-4ea1-a4fe-8b680fba2b30\">\n",
              "      <button class=\"colab-df-quickchart\" onclick=\"quickchart('df-35704228-7ea4-4ea1-a4fe-8b680fba2b30')\"\n",
              "                title=\"Suggest charts\"\n",
              "                style=\"display:none;\">\n",
              "\n",
              "<svg xmlns=\"http://www.w3.org/2000/svg\" height=\"24px\"viewBox=\"0 0 24 24\"\n",
              "     width=\"24px\">\n",
              "    <g>\n",
              "        <path d=\"M19 3H5c-1.1 0-2 .9-2 2v14c0 1.1.9 2 2 2h14c1.1 0 2-.9 2-2V5c0-1.1-.9-2-2-2zM9 17H7v-7h2v7zm4 0h-2V7h2v10zm4 0h-2v-4h2v4z\"/>\n",
              "    </g>\n",
              "</svg>\n",
              "      </button>\n",
              "\n",
              "<style>\n",
              "  .colab-df-quickchart {\n",
              "      --bg-color: #E8F0FE;\n",
              "      --fill-color: #1967D2;\n",
              "      --hover-bg-color: #E2EBFA;\n",
              "      --hover-fill-color: #174EA6;\n",
              "      --disabled-fill-color: #AAA;\n",
              "      --disabled-bg-color: #DDD;\n",
              "  }\n",
              "\n",
              "  [theme=dark] .colab-df-quickchart {\n",
              "      --bg-color: #3B4455;\n",
              "      --fill-color: #D2E3FC;\n",
              "      --hover-bg-color: #434B5C;\n",
              "      --hover-fill-color: #FFFFFF;\n",
              "      --disabled-bg-color: #3B4455;\n",
              "      --disabled-fill-color: #666;\n",
              "  }\n",
              "\n",
              "  .colab-df-quickchart {\n",
              "    background-color: var(--bg-color);\n",
              "    border: none;\n",
              "    border-radius: 50%;\n",
              "    cursor: pointer;\n",
              "    display: none;\n",
              "    fill: var(--fill-color);\n",
              "    height: 32px;\n",
              "    padding: 0;\n",
              "    width: 32px;\n",
              "  }\n",
              "\n",
              "  .colab-df-quickchart:hover {\n",
              "    background-color: var(--hover-bg-color);\n",
              "    box-shadow: 0 1px 2px rgba(60, 64, 67, 0.3), 0 1px 3px 1px rgba(60, 64, 67, 0.15);\n",
              "    fill: var(--button-hover-fill-color);\n",
              "  }\n",
              "\n",
              "  .colab-df-quickchart-complete:disabled,\n",
              "  .colab-df-quickchart-complete:disabled:hover {\n",
              "    background-color: var(--disabled-bg-color);\n",
              "    fill: var(--disabled-fill-color);\n",
              "    box-shadow: none;\n",
              "  }\n",
              "\n",
              "  .colab-df-spinner {\n",
              "    border: 2px solid var(--fill-color);\n",
              "    border-color: transparent;\n",
              "    border-bottom-color: var(--fill-color);\n",
              "    animation:\n",
              "      spin 1s steps(1) infinite;\n",
              "  }\n",
              "\n",
              "  @keyframes spin {\n",
              "    0% {\n",
              "      border-color: transparent;\n",
              "      border-bottom-color: var(--fill-color);\n",
              "      border-left-color: var(--fill-color);\n",
              "    }\n",
              "    20% {\n",
              "      border-color: transparent;\n",
              "      border-left-color: var(--fill-color);\n",
              "      border-top-color: var(--fill-color);\n",
              "    }\n",
              "    30% {\n",
              "      border-color: transparent;\n",
              "      border-left-color: var(--fill-color);\n",
              "      border-top-color: var(--fill-color);\n",
              "      border-right-color: var(--fill-color);\n",
              "    }\n",
              "    40% {\n",
              "      border-color: transparent;\n",
              "      border-right-color: var(--fill-color);\n",
              "      border-top-color: var(--fill-color);\n",
              "    }\n",
              "    60% {\n",
              "      border-color: transparent;\n",
              "      border-right-color: var(--fill-color);\n",
              "    }\n",
              "    80% {\n",
              "      border-color: transparent;\n",
              "      border-right-color: var(--fill-color);\n",
              "      border-bottom-color: var(--fill-color);\n",
              "    }\n",
              "    90% {\n",
              "      border-color: transparent;\n",
              "      border-bottom-color: var(--fill-color);\n",
              "    }\n",
              "  }\n",
              "</style>\n",
              "\n",
              "      <script>\n",
              "        async function quickchart(key) {\n",
              "          const quickchartButtonEl =\n",
              "            document.querySelector('#' + key + ' button');\n",
              "          quickchartButtonEl.disabled = true;  // To prevent multiple clicks.\n",
              "          quickchartButtonEl.classList.add('colab-df-spinner');\n",
              "          try {\n",
              "            const charts = await google.colab.kernel.invokeFunction(\n",
              "                'suggestCharts', [key], {});\n",
              "          } catch (error) {\n",
              "            console.error('Error during call to suggestCharts:', error);\n",
              "          }\n",
              "          quickchartButtonEl.classList.remove('colab-df-spinner');\n",
              "          quickchartButtonEl.classList.add('colab-df-quickchart-complete');\n",
              "        }\n",
              "        (() => {\n",
              "          let quickchartButtonEl =\n",
              "            document.querySelector('#df-35704228-7ea4-4ea1-a4fe-8b680fba2b30 button');\n",
              "          quickchartButtonEl.style.display =\n",
              "            google.colab.kernel.accessAllowed ? 'block' : 'none';\n",
              "        })();\n",
              "      </script>\n",
              "    </div>\n",
              "\n",
              "    </div>\n",
              "  </div>\n"
            ],
            "application/vnd.google.colaboratory.intrinsic+json": {
              "type": "dataframe",
              "variable_name": "similarity_df"
            }
          },
          "metadata": {},
          "execution_count": 21
        }
      ]
    },
    {
      "cell_type": "markdown",
      "source": [
        "### Heatmap + Cluster Labels"
      ],
      "metadata": {
        "id": "4L-NymlN1Qta"
      },
      "id": "4L-NymlN1Qta"
    },
    {
      "cell_type": "code",
      "source": [
        "# Required imports\n",
        "import pandas as pd\n",
        "import torch\n",
        "import numpy as np\n",
        "from sklearn.metrics.pairwise import cosine_similarity\n",
        "from sklearn.cluster import KMeans\n",
        "import matplotlib.pyplot as plt\n",
        "import seaborn as sns\n",
        "from transformers import BertTokenizer, BertModel\n",
        "\n",
        "# Step 1: Load synthetic clinical dataset\n",
        "df = pd.read_csv(\"synthetic_clinical_ner_dataset.csv\")\n",
        "df.fillna(\"\", inplace=True)\n",
        "\n",
        "# Step 2: Rebuild sentences\n",
        "paragraphs = []\n",
        "current = []\n",
        "for _, row in df.iterrows():\n",
        "    token = row[\"Token\"]\n",
        "    if token == \"\":\n",
        "        if current:\n",
        "            paragraphs.append(\" \".join(current))\n",
        "            current = []\n",
        "    else:\n",
        "        current.append(token)\n",
        "if current:\n",
        "    paragraphs.append(\" \".join(current))\n",
        "\n",
        "# Step 3: Load BERT\n",
        "tokenizer = BertTokenizer.from_pretrained(\"bert-base-uncased\")\n",
        "model = BertModel.from_pretrained(\"bert-base-uncased\")\n",
        "model.eval()\n",
        "\n",
        "# Step 4: Generate mean embeddings\n",
        "def get_bert_embedding(text):\n",
        "    inputs = tokenizer(text, return_tensors=\"pt\", truncation=True, padding=True)\n",
        "    with torch.no_grad():\n",
        "        outputs = model(**inputs)\n",
        "    return outputs.last_hidden_state.mean(dim=1).squeeze().numpy()\n",
        "\n",
        "bert_embeddings = np.array([get_bert_embedding(p) for p in paragraphs])\n",
        "\n",
        "# Step 5: Cosine similarity\n",
        "similarity_matrix = cosine_similarity(bert_embeddings)\n",
        "\n",
        "# Step 6: Visualize heatmap\n",
        "plt.figure(figsize=(10, 8))\n",
        "sns.heatmap(similarity_matrix, cmap=\"viridis\", xticklabels=False, yticklabels=False)\n",
        "plt.title(\"BERT-Based Semantic Similarity Between Clinical Paragraphs\")\n",
        "plt.xlabel(\"Paragraph Index\")\n",
        "plt.ylabel(\"Paragraph Index\")\n",
        "plt.tight_layout()\n",
        "plt.show()\n",
        "\n",
        "# Step 7: KMeans clustering\n",
        "kmeans = KMeans(n_clusters=5, random_state=42)\n",
        "cluster_labels = kmeans.fit_predict(bert_embeddings)\n",
        "\n",
        "# Step 8: Show clustered DataFrame\n",
        "cluster_df = pd.DataFrame({\n",
        "    \"Cluster\": cluster_labels,\n",
        "    \"Paragraph\": paragraphs\n",
        "})\n",
        "print(cluster_df)\n"
      ],
      "metadata": {
        "colab": {
          "base_uri": "https://localhost:8080/",
          "height": 1000
        },
        "id": "ZvAtwneF1Y5u",
        "outputId": "d9947065-de7f-403a-9601-9bc33c2445c7"
      },
      "id": "ZvAtwneF1Y5u",
      "execution_count": null,
      "outputs": [
        {
          "output_type": "display_data",
          "data": {
            "text/plain": [
              "<Figure size 1000x800 with 2 Axes>"
            ],
            "image/png": "[encoded data removed]"
          },
          "metadata": {}
        },
        {
          "output_type": "stream",
          "name": "stdout",
          "text": [
            "    Cluster                                          Paragraph\n",
            "0         2  A X-ray confirmed the presence of C . difficile .\n",
            "1         2  A X-ray confirmed the presence of C . difficile .\n",
            "2         1  ibuprofen was given to treat the migraine and ...\n",
            "3         3  UTI was suspected after evaluating symptoms li...\n",
            "4         0  The patient presents with shortness of breath ...\n",
            "..      ...                                                ...\n",
            "70        0  The patient presents with nausea and was diagn...\n",
            "71        1  lisinopril was prescribed following the diagno...\n",
            "72        0  The patient presents with nausea and was diagn...\n",
            "73        4  The physician noted chills and suggested a CT ...\n",
            "74        3  asthma was suspected after evaluating symptoms...\n",
            "\n",
            "[75 rows x 2 columns]\n"
          ]
        }
      ]
    },
    {
      "cell_type": "markdown",
      "source": [
        "Each square at position (i, j) represents the cosine similarity between paragraph i and paragraph j.\n",
        "\n",
        "The yellow diagonal represents self-similarity: each paragraph is most similar to itself → similarity = 1.0.\n",
        "\n",
        "Brighter (yellow-green) areas indicate higher similarity (more semantically alike).\n",
        "\n",
        "Darker (blue-purple) areas indicate lower similarity (less semantically related)."
      ],
      "metadata": {
        "id": "e54XisMF2CPl"
      },
      "id": "e54XisMF2CPl"
    },
    {
      "cell_type": "markdown",
      "source": [
        "##### Example Uses:\n",
        "If paragraph 13 and 42 have a similarity > 0.95, they likely mention similar symptoms or diseases.\n",
        "\n",
        "A cluster of bright squares (e.g., rows 10–20 × columns 10–20) suggests a group of related clinical cases — great candidates for diagnosis groupings.\n",
        "\n",
        "Sparse yellow outside the diagonal implies that most clinical notes are fairly distinct — which is good for testing model generalization."
      ],
      "metadata": {
        "id": "eE9VUjAp2JQD"
      },
      "id": "eE9VUjAp2JQD"
    },
    {
      "cell_type": "markdown",
      "source": [
        "### Step 2.3 - clustering and labeled DataFrame using BERT,"
      ],
      "metadata": {
        "id": "NOPLejA92fqP"
      },
      "id": "NOPLejA92fqP"
    },
    {
      "cell_type": "code",
      "source": [
        "!pip install -q transformers"
      ],
      "metadata": {
        "id": "g3KAu_832vK3"
      },
      "id": "g3KAu_832vK3",
      "execution_count": null,
      "outputs": []
    },
    {
      "cell_type": "code",
      "source": [
        "cluster_df.to_csv(\"bert_paragraph_clusters.csv\", index=False)"
      ],
      "metadata": {
        "id": "cdT8aVBW3Dig"
      },
      "id": "cdT8aVBW3Dig",
      "execution_count": null,
      "outputs": []
    },
    {
      "cell_type": "code",
      "source": [
        "from google.colab import files\n",
        "files.download(\"bert_paragraph_clusters.csv\")\n"
      ],
      "metadata": {
        "colab": {
          "base_uri": "https://localhost:8080/",
          "height": 17
        },
        "id": "SvIyJpBF3LvN",
        "outputId": "047360e9-022a-48c0-b2d3-2b987777dd59"
      },
      "id": "SvIyJpBF3LvN",
      "execution_count": null,
      "outputs": [
        {
          "output_type": "display_data",
          "data": {
            "text/plain": [
              "<IPython.core.display.Javascript object>"
            ],
            "application/javascript": [
              "\n",
              "    async function download(id, filename, size) {\n",
              "      if (!google.colab.kernel.accessAllowed) {\n",
              "        return;\n",
              "      }\n",
              "      const div = document.createElement('div');\n",
              "      const label = document.createElement('label');\n",
              "      label.textContent = `Downloading \"${filename}\": `;\n",
              "      div.appendChild(label);\n",
              "      const progress = document.createElement('progress');\n",
              "      progress.max = size;\n",
              "      div.appendChild(progress);\n",
              "      document.body.appendChild(div);\n",
              "\n",
              "      const buffers = [];\n",
              "      let downloaded = 0;\n",
              "\n",
              "      const channel = await google.colab.kernel.comms.open(id);\n",
              "      // Send a message to notify the kernel that we're ready.\n",
              "      channel.send({})\n",
              "\n",
              "      for await (const message of channel.messages) {\n",
              "        // Send a message to notify the kernel that we're ready.\n",
              "        channel.send({})\n",
              "        if (message.buffers) {\n",
              "          for (const buffer of message.buffers) {\n",
              "            buffers.push(buffer);\n",
              "            downloaded += buffer.byteLength;\n",
              "            progress.value = downloaded;\n",
              "          }\n",
              "        }\n",
              "      }\n",
              "      const blob = new Blob(buffers, {type: 'application/binary'});\n",
              "      const a = document.createElement('a');\n",
              "      a.href = window.URL.createObjectURL(blob);\n",
              "      a.download = filename;\n",
              "      div.appendChild(a);\n",
              "      a.click();\n",
              "      div.remove();\n",
              "    }\n",
              "  "
            ]
          },
          "metadata": {}
        },
        {
          "output_type": "display_data",
          "data": {
            "text/plain": [
              "<IPython.core.display.Javascript object>"
            ],
            "application/javascript": [
              "download(\"download_a6f78297-e3ce-487c-8cae-9f5b03039efa\", \"bert_paragraph_clusters.csv\", 4891)"
            ]
          },
          "metadata": {}
        }
      ]
    },
    {
      "cell_type": "markdown",
      "source": [
        "### Summary of Task 2: Clinical Paragraph Similarity"
      ],
      "metadata": {
        "id": "2p9ZED133xry"
      },
      "id": "2p9ZED133xry"
    },
    {
      "cell_type": "markdown",
      "source": [
        "#### Goal: Use Word2Vec and BERT embeddings to compute similarity between clinical paragraphs and group similar cases to support diagnosis prediction."
      ],
      "metadata": {
        "id": "PvSj3Tpd31GC"
      },
      "id": "PvSj3Tpd31GC"
    }
  ],
  "metadata": {
    "kernelspec": {
      "display_name": "base",
      "language": "python",
      "name": "python3"
    },
    "language_info": {
      "codemirror_mode": {
        "name": "ipython",
        "version": 3
      },
      "file_extension": ".py",
      "mimetype": "text/x-python",
      "name": "python",
      "nbconvert_exporter": "python",
      "pygments_lexer": "ipython3",
      "version": "3.11.5"
    },
    "colab": {
      "provenance": [],
      "toc_visible": true,
      "include_colab_link": true
    },
    "widgets": {
      "application/vnd.jupyter.widget-state+json": {
        "6687bf108a334d66be6a126957c6e6b9": {
          "model_module": "@jupyter-widgets/controls",
          "model_name": "HBoxModel",
          "model_module_version": "1.5.0",
          "state": {
            "_dom_classes": [],
            "_model_module": "@jupyter-widgets/controls",
            "_model_module_version": "1.5.0",
            "_model_name": "HBoxModel",
            "_view_count": null,
            "_view_module": "@jupyter-widgets/controls",
            "_view_module_version": "1.5.0",
            "_view_name": "HBoxView",
            "box_style": "",
            "children": [
              "IPY_MODEL_1c87d38899a241a38154fab77eab92da",
              "IPY_MODEL_0514f56d7e4b4fd18908fcfdf099b881",
              "IPY_MODEL_da0e8bbee62a4b7f9b91adfca91a2fe0"
            ],
            "layout": "IPY_MODEL_065b2f66615042bb86333cc7789b5b46"
          }
        },
        "1c87d38899a241a38154fab77eab92da": {
          "model_module": "@jupyter-widgets/controls",
          "model_name": "HTMLModel",
          "model_module_version": "1.5.0",
          "state": {
            "_dom_classes": [],
            "_model_module": "@jupyter-widgets/controls",
            "_model_module_version": "1.5.0",
            "_model_name": "HTMLModel",
            "_view_count": null,
            "_view_module": "@jupyter-widgets/controls",
            "_view_module_version": "1.5.0",
            "_view_name": "HTMLView",
            "description": "",
            "description_tooltip": null,
            "layout": "IPY_MODEL_77315d7bfa0d4c898114488c348fa448",
            "placeholder": "​",
            "style": "IPY_MODEL_944e2feb8fe745ebac9429018d878335",
            "value": "Map: 100%"
          }
        },
        "0514f56d7e4b4fd18908fcfdf099b881": {
          "model_module": "@jupyter-widgets/controls",
          "model_name": "FloatProgressModel",
          "model_module_version": "1.5.0",
          "state": {
            "_dom_classes": [],
            "_model_module": "@jupyter-widgets/controls",
            "_model_module_version": "1.5.0",
            "_model_name": "FloatProgressModel",
            "_view_count": null,
            "_view_module": "@jupyter-widgets/controls",
            "_view_module_version": "1.5.0",
            "_view_name": "ProgressView",
            "bar_style": "success",
            "description": "",
            "description_tooltip": null,
            "layout": "IPY_MODEL_0fea9ab16976404298eb7ded53ac5d62",
            "max": 60,
            "min": 0,
            "orientation": "horizontal",
            "style": "IPY_MODEL_d25ad31f93144469a545999851a797a6",
            "value": 60
          }
        },
        "da0e8bbee62a4b7f9b91adfca91a2fe0": {
          "model_module": "@jupyter-widgets/controls",
          "model_name": "HTMLModel",
          "model_module_version": "1.5.0",
          "state": {
            "_dom_classes": [],
            "_model_module": "@jupyter-widgets/controls",
            "_model_module_version": "1.5.0",
            "_model_name": "HTMLModel",
            "_view_count": null,
            "_view_module": "@jupyter-widgets/controls",
            "_view_module_version": "1.5.0",
            "_view_name": "HTMLView",
            "description": "",
            "description_tooltip": null,
            "layout": "IPY_MODEL_5df63c24d0d44bcfba8ce28ab537e2c7",
            "placeholder": "​",
            "style": "IPY_MODEL_6a6a8e400fdc4252869efac157087126",
            "value": " 60/60 [00:00&lt;00:00, 633.40 examples/s]"
          }
        },
        "065b2f66615042bb86333cc7789b5b46": {
          "model_module": "@jupyter-widgets/base",
          "model_name": "LayoutModel",
          "model_module_version": "1.2.0",
          "state": {
            "_model_module": "@jupyter-widgets/base",
            "_model_module_version": "1.2.0",
            "_model_name": "LayoutModel",
            "_view_count": null,
            "_view_module": "@jupyter-widgets/base",
            "_view_module_version": "1.2.0",
            "_view_name": "LayoutView",
            "align_content": null,
            "align_items": null,
            "align_self": null,
            "border": null,
            "bottom": null,
            "display": null,
            "flex": null,
            "flex_flow": null,
            "grid_area": null,
            "grid_auto_columns": null,
            "grid_auto_flow": null,
            "grid_auto_rows": null,
            "grid_column": null,
            "grid_gap": null,
            "grid_row": null,
            "grid_template_areas": null,
            "grid_template_columns": null,
            "grid_template_rows": null,
            "height": null,
            "justify_content": null,
            "justify_items": null,
            "left": null,
            "margin": null,
            "max_height": null,
            "max_width": null,
            "min_height": null,
            "min_width": null,
            "object_fit": null,
            "object_position": null,
            "order": null,
            "overflow": null,
            "overflow_x": null,
            "overflow_y": null,
            "padding": null,
            "right": null,
            "top": null,
            "visibility": null,
            "width": null
          }
        },
        "77315d7bfa0d4c898114488c348fa448": {
          "model_module": "@jupyter-widgets/base",
          "model_name": "LayoutModel",
          "model_module_version": "1.2.0",
          "state": {
            "_model_module": "@jupyter-widgets/base",
            "_model_module_version": "1.2.0",
            "_model_name": "LayoutModel",
            "_view_count": null,
            "_view_module": "@jupyter-widgets/base",
            "_view_module_version": "1.2.0",
            "_view_name": "LayoutView",
            "align_content": null,
            "align_items": null,
            "align_self": null,
            "border": null,
            "bottom": null,
            "display": null,
            "flex": null,
            "flex_flow": null,
            "grid_area": null,
            "grid_auto_columns": null,
            "grid_auto_flow": null,
            "grid_auto_rows": null,
            "grid_column": null,
            "grid_gap": null,
            "grid_row": null,
            "grid_template_areas": null,
            "grid_template_columns": null,
            "grid_template_rows": null,
            "height": null,
            "justify_content": null,
            "justify_items": null,
            "left": null,
            "margin": null,
            "max_height": null,
            "max_width": null,
            "min_height": null,
            "min_width": null,
            "object_fit": null,
            "object_position": null,
            "order": null,
            "overflow": null,
            "overflow_x": null,
            "overflow_y": null,
            "padding": null,
            "right": null,
            "top": null,
            "visibility": null,
            "width": null
          }
        },
        "944e2feb8fe745ebac9429018d878335": {
          "model_module": "@jupyter-widgets/controls",
          "model_name": "DescriptionStyleModel",
          "model_module_version": "1.5.0",
          "state": {
            "_model_module": "@jupyter-widgets/controls",
            "_model_module_version": "1.5.0",
            "_model_name": "DescriptionStyleModel",
            "_view_count": null,
            "_view_module": "@jupyter-widgets/base",
            "_view_module_version": "1.2.0",
            "_view_name": "StyleView",
            "description_width": ""
          }
        },
        "0fea9ab16976404298eb7ded53ac5d62": {
          "model_module": "@jupyter-widgets/base",
          "model_name": "LayoutModel",
          "model_module_version": "1.2.0",
          "state": {
            "_model_module": "@jupyter-widgets/base",
            "_model_module_version": "1.2.0",
            "_model_name": "LayoutModel",
            "_view_count": null,
            "_view_module": "@jupyter-widgets/base",
            "_view_module_version": "1.2.0",
            "_view_name": "LayoutView",
            "align_content": null,
            "align_items": null,
            "align_self": null,
            "border": null,
            "bottom": null,
            "display": null,
            "flex": null,
            "flex_flow": null,
            "grid_area": null,
            "grid_auto_columns": null,
            "grid_auto_flow": null,
            "grid_auto_rows": null,
            "grid_column": null,
            "grid_gap": null,
            "grid_row": null,
            "grid_template_areas": null,
            "grid_template_columns": null,
            "grid_template_rows": null,
            "height": null,
            "justify_content": null,
            "justify_items": null,
            "left": null,
            "margin": null,
            "max_height": null,
            "max_width": null,
            "min_height": null,
            "min_width": null,
            "object_fit": null,
            "object_position": null,
            "order": null,
            "overflow": null,
            "overflow_x": null,
            "overflow_y": null,
            "padding": null,
            "right": null,
            "top": null,
            "visibility": null,
            "width": null
          }
        },
        "d25ad31f93144469a545999851a797a6": {
          "model_module": "@jupyter-widgets/controls",
          "model_name": "ProgressStyleModel",
          "model_module_version": "1.5.0",
          "state": {
            "_model_module": "@jupyter-widgets/controls",
            "_model_module_version": "1.5.0",
            "_model_name": "ProgressStyleModel",
            "_view_count": null,
            "_view_module": "@jupyter-widgets/base",
            "_view_module_version": "1.2.0",
            "_view_name": "StyleView",
            "bar_color": null,
            "description_width": ""
          }
        },
        "5df63c24d0d44bcfba8ce28ab537e2c7": {
          "model_module": "@jupyter-widgets/base",
          "model_name": "LayoutModel",
          "model_module_version": "1.2.0",
          "state": {
            "_model_module": "@jupyter-widgets/base",
            "_model_module_version": "1.2.0",
            "_model_name": "LayoutModel",
            "_view_count": null,
            "_view_module": "@jupyter-widgets/base",
            "_view_module_version": "1.2.0",
            "_view_name": "LayoutView",
            "align_content": null,
            "align_items": null,
            "align_self": null,
            "border": null,
            "bottom": null,
            "display": null,
            "flex": null,
            "flex_flow": null,
            "grid_area": null,
            "grid_auto_columns": null,
            "grid_auto_flow": null,
            "grid_auto_rows": null,
            "grid_column": null,
            "grid_gap": null,
            "grid_row": null,
            "grid_template_areas": null,
            "grid_template_columns": null,
            "grid_template_rows": null,
            "height": null,
            "justify_content": null,
            "justify_items": null,
            "left": null,
            "margin": null,
            "max_height": null,
            "max_width": null,
            "min_height": null,
            "min_width": null,
            "object_fit": null,
            "object_position": null,
            "order": null,
            "overflow": null,
            "overflow_x": null,
            "overflow_y": null,
            "padding": null,
            "right": null,
            "top": null,
            "visibility": null,
            "width": null
          }
        },
        "6a6a8e400fdc4252869efac157087126": {
          "model_module": "@jupyter-widgets/controls",
          "model_name": "DescriptionStyleModel",
          "model_module_version": "1.5.0",
          "state": {
            "_model_module": "@jupyter-widgets/controls",
            "_model_module_version": "1.5.0",
            "_model_name": "DescriptionStyleModel",
            "_view_count": null,
            "_view_module": "@jupyter-widgets/base",
            "_view_module_version": "1.2.0",
            "_view_name": "StyleView",
            "description_width": ""
          }
        },
        "f7934ee15de843b19ffd3436b57e3310": {
          "model_module": "@jupyter-widgets/controls",
          "model_name": "HBoxModel",
          "model_module_version": "1.5.0",
          "state": {
            "_dom_classes": [],
            "_model_module": "@jupyter-widgets/controls",
            "_model_module_version": "1.5.0",
            "_model_name": "HBoxModel",
            "_view_count": null,
            "_view_module": "@jupyter-widgets/controls",
            "_view_module_version": "1.5.0",
            "_view_name": "HBoxView",
            "box_style": "",
            "children": [
              "IPY_MODEL_89af872e1a354ea3a8a8a48e4f9d3fd3",
              "IPY_MODEL_755ef48cffab452ba5f5fd51f24971fe",
              "IPY_MODEL_00f7223287974756b3870ecaf16c5439"
            ],
            "layout": "IPY_MODEL_37d8527b10744fbea5c12dc234f9ba0c"
          }
        },
        "89af872e1a354ea3a8a8a48e4f9d3fd3": {
          "model_module": "@jupyter-widgets/controls",
          "model_name": "HTMLModel",
          "model_module_version": "1.5.0",
          "state": {
            "_dom_classes": [],
            "_model_module": "@jupyter-widgets/controls",
            "_model_module_version": "1.5.0",
            "_model_name": "HTMLModel",
            "_view_count": null,
            "_view_module": "@jupyter-widgets/controls",
            "_view_module_version": "1.5.0",
            "_view_name": "HTMLView",
            "description": "",
            "description_tooltip": null,
            "layout": "IPY_MODEL_4acd5286a30c40198b575d41da8ea25d",
            "placeholder": "​",
            "style": "IPY_MODEL_83bae51168ee44e5942561c4f9aa7475",
            "value": "Map: 100%"
          }
        },
        "755ef48cffab452ba5f5fd51f24971fe": {
          "model_module": "@jupyter-widgets/controls",
          "model_name": "FloatProgressModel",
          "model_module_version": "1.5.0",
          "state": {
            "_dom_classes": [],
            "_model_module": "@jupyter-widgets/controls",
            "_model_module_version": "1.5.0",
            "_model_name": "FloatProgressModel",
            "_view_count": null,
            "_view_module": "@jupyter-widgets/controls",
            "_view_module_version": "1.5.0",
            "_view_name": "ProgressView",
            "bar_style": "success",
            "description": "",
            "description_tooltip": null,
            "layout": "IPY_MODEL_85bcd1d598014b6db53040300327593c",
            "max": 15,
            "min": 0,
            "orientation": "horizontal",
            "style": "IPY_MODEL_3bcfc08f81b54202a6d0ab34d2832c20",
            "value": 15
          }
        },
        "00f7223287974756b3870ecaf16c5439": {
          "model_module": "@jupyter-widgets/controls",
          "model_name": "HTMLModel",
          "model_module_version": "1.5.0",
          "state": {
            "_dom_classes": [],
            "_model_module": "@jupyter-widgets/controls",
            "_model_module_version": "1.5.0",
            "_model_name": "HTMLModel",
            "_view_count": null,
            "_view_module": "@jupyter-widgets/controls",
            "_view_module_version": "1.5.0",
            "_view_name": "HTMLView",
            "description": "",
            "description_tooltip": null,
            "layout": "IPY_MODEL_df56367e56ba42389db1b7f8f2015695",
            "placeholder": "​",
            "style": "IPY_MODEL_744d4532dcbc49438a6aaf8b965bc5c3",
            "value": " 15/15 [00:00&lt;00:00, 159.75 examples/s]"
          }
        },
        "37d8527b10744fbea5c12dc234f9ba0c": {
          "model_module": "@jupyter-widgets/base",
          "model_name": "LayoutModel",
          "model_module_version": "1.2.0",
          "state": {
            "_model_module": "@jupyter-widgets/base",
            "_model_module_version": "1.2.0",
            "_model_name": "LayoutModel",
            "_view_count": null,
            "_view_module": "@jupyter-widgets/base",
            "_view_module_version": "1.2.0",
            "_view_name": "LayoutView",
            "align_content": null,
            "align_items": null,
            "align_self": null,
            "border": null,
            "bottom": null,
            "display": null,
            "flex": null,
            "flex_flow": null,
            "grid_area": null,
            "grid_auto_columns": null,
            "grid_auto_flow": null,
            "grid_auto_rows": null,
            "grid_column": null,
            "grid_gap": null,
            "grid_row": null,
            "grid_template_areas": null,
            "grid_template_columns": null,
            "grid_template_rows": null,
            "height": null,
            "justify_content": null,
            "justify_items": null,
            "left": null,
            "margin": null,
            "max_height": null,
            "max_width": null,
            "min_height": null,
            "min_width": null,
            "object_fit": null,
            "object_position": null,
            "order": null,
            "overflow": null,
            "overflow_x": null,
            "overflow_y": null,
            "padding": null,
            "right": null,
            "top": null,
            "visibility": null,
            "width": null
          }
        },
        "4acd5286a30c40198b575d41da8ea25d": {
          "model_module": "@jupyter-widgets/base",
          "model_name": "LayoutModel",
          "model_module_version": "1.2.0",
          "state": {
            "_model_module": "@jupyter-widgets/base",
            "_model_module_version": "1.2.0",
            "_model_name": "LayoutModel",
            "_view_count": null,
            "_view_module": "@jupyter-widgets/base",
            "_view_module_version": "1.2.0",
            "_view_name": "LayoutView",
            "align_content": null,
            "align_items": null,
            "align_self": null,
            "border": null,
            "bottom": null,
            "display": null,
            "flex": null,
            "flex_flow": null,
            "grid_area": null,
            "grid_auto_columns": null,
            "grid_auto_flow": null,
            "grid_auto_rows": null,
            "grid_column": null,
            "grid_gap": null,
            "grid_row": null,
            "grid_template_areas": null,
            "grid_template_columns": null,
            "grid_template_rows": null,
            "height": null,
            "justify_content": null,
            "justify_items": null,
            "left": null,
            "margin": null,
            "max_height": null,
            "max_width": null,
            "min_height": null,
            "min_width": null,
            "object_fit": null,
            "object_position": null,
            "order": null,
            "overflow": null,
            "overflow_x": null,
            "overflow_y": null,
            "padding": null,
            "right": null,
            "top": null,
            "visibility": null,
            "width": null
          }
        },
        "83bae51168ee44e5942561c4f9aa7475": {
          "model_module": "@jupyter-widgets/controls",
          "model_name": "DescriptionStyleModel",
          "model_module_version": "1.5.0",
          "state": {
            "_model_module": "@jupyter-widgets/controls",
            "_model_module_version": "1.5.0",
            "_model_name": "DescriptionStyleModel",
            "_view_count": null,
            "_view_module": "@jupyter-widgets/base",
            "_view_module_version": "1.2.0",
            "_view_name": "StyleView",
            "description_width": ""
          }
        },
        "85bcd1d598014b6db53040300327593c": {
          "model_module": "@jupyter-widgets/base",
          "model_name": "LayoutModel",
          "model_module_version": "1.2.0",
          "state": {
            "_model_module": "@jupyter-widgets/base",
            "_model_module_version": "1.2.0",
            "_model_name": "LayoutModel",
            "_view_count": null,
            "_view_module": "@jupyter-widgets/base",
            "_view_module_version": "1.2.0",
            "_view_name": "LayoutView",
            "align_content": null,
            "align_items": null,
            "align_self": null,
            "border": null,
            "bottom": null,
            "display": null,
            "flex": null,
            "flex_flow": null,
            "grid_area": null,
            "grid_auto_columns": null,
            "grid_auto_flow": null,
            "grid_auto_rows": null,
            "grid_column": null,
            "grid_gap": null,
            "grid_row": null,
            "grid_template_areas": null,
            "grid_template_columns": null,
            "grid_template_rows": null,
            "height": null,
            "justify_content": null,
            "justify_items": null,
            "left": null,
            "margin": null,
            "max_height": null,
            "max_width": null,
            "min_height": null,
            "min_width": null,
            "object_fit": null,
            "object_position": null,
            "order": null,
            "overflow": null,
            "overflow_x": null,
            "overflow_y": null,
            "padding": null,
            "right": null,
            "top": null,
            "visibility": null,
            "width": null
          }
        },
        "3bcfc08f81b54202a6d0ab34d2832c20": {
          "model_module": "@jupyter-widgets/controls",
          "model_name": "ProgressStyleModel",
          "model_module_version": "1.5.0",
          "state": {
            "_model_module": "@jupyter-widgets/controls",
            "_model_module_version": "1.5.0",
            "_model_name": "ProgressStyleModel",
            "_view_count": null,
            "_view_module": "@jupyter-widgets/base",
            "_view_module_version": "1.2.0",
            "_view_name": "StyleView",
            "bar_color": null,
            "description_width": ""
          }
        },
        "df56367e56ba42389db1b7f8f2015695": {
          "model_module": "@jupyter-widgets/base",
          "model_name": "LayoutModel",
          "model_module_version": "1.2.0",
          "state": {
            "_model_module": "@jupyter-widgets/base",
            "_model_module_version": "1.2.0",
            "_model_name": "LayoutModel",
            "_view_count": null,
            "_view_module": "@jupyter-widgets/base",
            "_view_module_version": "1.2.0",
            "_view_name": "LayoutView",
            "align_content": null,
            "align_items": null,
            "align_self": null,
            "border": null,
            "bottom": null,
            "display": null,
            "flex": null,
            "flex_flow": null,
            "grid_area": null,
            "grid_auto_columns": null,
            "grid_auto_flow": null,
            "grid_auto_rows": null,
            "grid_column": null,
            "grid_gap": null,
            "grid_row": null,
            "grid_template_areas": null,
            "grid_template_columns": null,
            "grid_template_rows": null,
            "height": null,
            "justify_content": null,
            "justify_items": null,
            "left": null,
            "margin": null,
            "max_height": null,
            "max_width": null,
            "min_height": null,
            "min_width": null,
            "object_fit": null,
            "object_position": null,
            "order": null,
            "overflow": null,
            "overflow_x": null,
            "overflow_y": null,
            "padding": null,
            "right": null,
            "top": null,
            "visibility": null,
            "width": null
          }
        },
        "744d4532dcbc49438a6aaf8b965bc5c3": {
          "model_module": "@jupyter-widgets/controls",
          "model_name": "DescriptionStyleModel",
          "model_module_version": "1.5.0",
          "state": {
            "_model_module": "@jupyter-widgets/controls",
            "_model_module_version": "1.5.0",
            "_model_name": "DescriptionStyleModel",
            "_view_count": null,
            "_view_module": "@jupyter-widgets/base",
            "_view_module_version": "1.2.0",
            "_view_name": "StyleView",
            "description_width": ""
          }
        }
      }
    }
  },
  "nbformat": 4,
  "nbformat_minor": 5
}