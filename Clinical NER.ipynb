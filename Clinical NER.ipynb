{
 "cells": [
  {
   "cell_type": "code",
   "execution_count": 7,
   "id": "d456be6b",
   "metadata": {},
   "outputs": [
    {
     "name": "stdout",
     "output_type": "stream",
     "text": [
      "Note: you may need to restart the kernel to use updated packages.\n"
     ]
    }
   ],
   "source": [
    "import pandas as pd\n",
    "%pip install -q sklearn-crfsuite\n",
    "\n",
    "import sklearn_crfsuite\n",
    "from sklearn_crfsuite import metrics\n",
    "import random\n",
    "from sklearn.model_selection import train_test_split"
   ]
  },
  {
   "cell_type": "markdown",
   "id": "298caf5d",
   "metadata": {},
   "source": [
    "### 1.1 — Load and Preprocess the Dataset"
   ]
  },
  {
   "cell_type": "code",
   "execution_count": 8,
   "id": "df1ede62",
   "metadata": {},
   "outputs": [
    {
     "name": "stdout",
     "output_type": "stream",
     "text": [
      "       Token    NER_Tag\n",
      "0          A  B-SYMPTOM\n",
      "1      X-ray     B-TEST\n",
      "2  confirmed          O\n",
      "3        the          O\n",
      "4   presence          O\n"
     ]
    }
   ],
   "source": [
    "# Load the synthetic dataset\n",
    "data = pd.read_csv('synthetic_clinical_ner_dataset.csv')\n",
    "\n",
    "# Preview\n",
    "print(data.head())"
   ]
  },
  {
   "cell_type": "code",
   "execution_count": 9,
   "id": "77bcbde3",
   "metadata": {},
   "outputs": [
    {
     "name": "stdout",
     "output_type": "stream",
     "text": [
      "Total sentences: 75\n",
      "Example sentence: [('A', 'B-SYMPTOM'), ('X-ray', 'B-TEST'), ('confirmed', 'O'), ('the', 'O'), ('presence', 'O'), ('of', 'B-DRUG'), ('C', 'B-DISEASE'), ('.', 'B-DISEASE'), ('difficile', 'B-DISEASE'), ('.', 'B-DISEASE')]\n"
     ]
    }
   ],
   "source": [
    "# Step 1: Reconstruct sentences\n",
    "sentences = []\n",
    "current_sentence = []\n",
    "\n",
    "for idx, row in data.iterrows():\n",
    "    token = row['Token']\n",
    "    tag = row['NER_Tag']\n",
    "    \n",
    "    # Empty token means new sentence\n",
    "    if pd.isna(token) or token.strip() == \"\":\n",
    "        if current_sentence:\n",
    "            sentences.append(current_sentence)\n",
    "            current_sentence = []\n",
    "    else:\n",
    "        current_sentence.append((token, tag))\n",
    "\n",
    "# Add any last pending sentence\n",
    "if current_sentence:\n",
    "    sentences.append(current_sentence)\n",
    "\n",
    "print(f\"Total sentences: {len(sentences)}\")\n",
    "print(f\"Example sentence: {sentences[0]}\")"
   ]
  },
  {
   "cell_type": "markdown",
   "id": "904a4e2f",
   "metadata": {},
   "source": [
    "### 1.2 — Training a CRF Model for Clinical NER"
   ]
  },
  {
   "cell_type": "code",
   "execution_count": 10,
   "id": "6f1a19d6",
   "metadata": {},
   "outputs": [],
   "source": [
    "# --- Helper: Feature extractor per token ---\n",
    "def word2features(sent, i):\n",
    "    word = sent[i][0]\n",
    "    features = {\n",
    "        'bias': 1.0,\n",
    "        'word.lower()': word.lower(),\n",
    "        'word[-3:]': word[-3:],\n",
    "        'word[:3]': word[:3],\n",
    "        'word.isupper()': word.isupper(),\n",
    "        'word.istitle()': word.istitle(),\n",
    "        'word.isdigit()': word.isdigit()\n",
    "    }\n",
    "    if i > 0:\n",
    "        word1 = sent[i-1][0]\n",
    "        features.update({\n",
    "            '-1:word.lower()': word1.lower(),\n",
    "            '-1:word.istitle()': word1.istitle(),\n",
    "            '-1:word.isupper()': word1.isupper()\n",
    "        })\n",
    "    else:\n",
    "        features['BOS'] = True  # Beginning of sentence\n",
    "\n",
    "    if i < len(sent)-1:\n",
    "        word1 = sent[i+1][0]\n",
    "        features.update({\n",
    "            '+1:word.lower()': word1.lower(),\n",
    "            '+1:word.istitle()': word1.istitle(),\n",
    "            '+1:word.isupper()': word1.isupper()\n",
    "        })\n",
    "    else:\n",
    "        features['EOS'] = True  # End of sentence\n",
    "\n",
    "    return features\n",
    "\n",
    "def sent2features(sent):\n",
    "    return [word2features(sent, i) for i in range(len(sent))]\n",
    "\n",
    "def sent2labels(sent):\n",
    "    return [label for token, label in sent]\n",
    "\n",
    "def sent2tokens(sent):\n",
    "    return [token for token, label in sent]\n"
   ]
  },
  {
   "cell_type": "code",
   "execution_count": 11,
   "id": "0278b36b",
   "metadata": {},
   "outputs": [
    {
     "name": "stdout",
     "output_type": "stream",
     "text": [
      "              precision    recall  f1-score   support\n",
      "\n",
      "   B-DISEASE      1.000     0.857     0.923        14\n",
      "      B-DRUG      0.857     0.857     0.857         7\n",
      "   B-SYMPTOM      0.889     0.941     0.914        17\n",
      "      B-TEST      1.000     0.833     0.909         6\n",
      "           O      0.971     0.990     0.980       101\n",
      "\n",
      "    accuracy                          0.959       145\n",
      "   macro avg      0.943     0.896     0.917       145\n",
      "weighted avg      0.960     0.959     0.958       145\n",
      "\n"
     ]
    }
   ],
   "source": [
    "# --- Create feature and label sets ---\n",
    "X = [sent2features(s) for s in sentences]\n",
    "y = [sent2labels(s) for s in sentences]\n",
    "\n",
    "# --- Train/Test Split ---\n",
    "X_train, X_test, y_train, y_test = train_test_split(X, y, test_size=0.2, random_state=42)\n",
    "\n",
    "# --- Train CRF ---\n",
    "crf = sklearn_crfsuite.CRF(\n",
    "    algorithm='lbfgs',\n",
    "    max_iterations=100,\n",
    "    all_possible_transitions=True\n",
    ")\n",
    "crf.fit(X_train, y_train)\n",
    "\n",
    "# --- Predict and Evaluate ---\n",
    "y_pred = crf.predict(X_test)\n",
    "\n",
    "print(metrics.flat_classification_report(y_test, y_pred, digits=3))"
   ]
  },
  {
   "cell_type": "markdown",
   "id": "3c9d51e1",
   "metadata": {},
   "source": [
    "### 1.3 — Fine-Tune BERT for Clinical NER (HuggingFace)"
   ]
  }
 ],
 "metadata": {
  "kernelspec": {
   "display_name": "base",
   "language": "python",
   "name": "python3"
  },
  "language_info": {
   "codemirror_mode": {
    "name": "ipython",
    "version": 3
   },
   "file_extension": ".py",
   "mimetype": "text/x-python",
   "name": "python",
   "nbconvert_exporter": "python",
   "pygments_lexer": "ipython3",
   "version": "3.11.5"
  }
 },
 "nbformat": 4,
 "nbformat_minor": 5
}
